{
 "cells": [
  {
   "cell_type": "code",
   "execution_count": 11,
   "metadata": {},
   "outputs": [
    {
     "name": "stdout",
     "output_type": "stream",
     "text": [
      "Downloading https://github.com/ultralytics/assets/releases/download/v8.3.0/yolov8n.pt to 'yolov8n.pt'...\n"
     ]
    },
    {
     "name": "stderr",
     "output_type": "stream",
     "text": [
      "100%|██████████| 6.25M/6.25M [00:14<00:00, 458kB/s]\n"
     ]
    },
    {
     "name": "stdout",
     "output_type": "stream",
     "text": [
      "Ultralytics 8.3.163 🚀 Python-3.9.13 torch-2.2.2 CPU (Apple M2)\n",
      "\u001b[34m\u001b[1mengine/trainer: \u001b[0magnostic_nms=False, amp=True, augment=False, auto_augment=randaugment, batch=16, bgr=0.0, box=7.5, cache=False, cfg=None, classes=None, close_mosaic=10, cls=0.5, conf=None, copy_paste=0.0, copy_paste_mode=flip, cos_lr=False, cutmix=0.0, data=/Users/denizcemcangoz/Desktop/my_dataset/data.yaml, degrees=0.0, deterministic=True, device=cpu, dfl=1.5, dnn=False, dropout=0.0, dynamic=False, embed=None, epochs=100, erasing=0.4, exist_ok=False, fliplr=0.5, flipud=0.0, format=torchscript, fraction=1.0, freeze=None, half=False, hsv_h=0.015, hsv_s=0.7, hsv_v=0.4, imgsz=640, int8=False, iou=0.7, keras=False, kobj=1.0, line_width=None, lr0=0.01, lrf=0.01, mask_ratio=4, max_det=300, mixup=0.0, mode=train, model=yolov8n.pt, momentum=0.937, mosaic=1.0, multi_scale=False, name=train, nbs=64, nms=False, opset=None, optimize=False, optimizer=auto, overlap_mask=True, patience=100, perspective=0.0, plots=True, pose=12.0, pretrained=True, profile=False, project=None, rect=False, resume=False, retina_masks=False, save=True, save_conf=False, save_crop=False, save_dir=runs/detect/train, save_frames=False, save_json=False, save_period=-1, save_txt=False, scale=0.5, seed=0, shear=0.0, show=False, show_boxes=True, show_conf=True, show_labels=True, simplify=True, single_cls=False, source=None, split=val, stream_buffer=False, task=detect, time=None, tracker=botsort.yaml, translate=0.1, val=True, verbose=True, vid_stride=1, visualize=False, warmup_bias_lr=0.1, warmup_epochs=3.0, warmup_momentum=0.8, weight_decay=0.0005, workers=8, workspace=None\n",
      "Overriding model.yaml nc=80 with nc=4\n",
      "\n",
      "                   from  n    params  module                                       arguments                     \n",
      "  0                  -1  1       464  ultralytics.nn.modules.conv.Conv             [3, 16, 3, 2]                 \n",
      "  1                  -1  1      4672  ultralytics.nn.modules.conv.Conv             [16, 32, 3, 2]                \n",
      "  2                  -1  1      7360  ultralytics.nn.modules.block.C2f             [32, 32, 1, True]             \n",
      "  3                  -1  1     18560  ultralytics.nn.modules.conv.Conv             [32, 64, 3, 2]                \n",
      "  4                  -1  2     49664  ultralytics.nn.modules.block.C2f             [64, 64, 2, True]             \n",
      "  5                  -1  1     73984  ultralytics.nn.modules.conv.Conv             [64, 128, 3, 2]               \n",
      "  6                  -1  2    197632  ultralytics.nn.modules.block.C2f             [128, 128, 2, True]           \n",
      "  7                  -1  1    295424  ultralytics.nn.modules.conv.Conv             [128, 256, 3, 2]              \n",
      "  8                  -1  1    460288  ultralytics.nn.modules.block.C2f             [256, 256, 1, True]           \n",
      "  9                  -1  1    164608  ultralytics.nn.modules.block.SPPF            [256, 256, 5]                 \n",
      " 10                  -1  1         0  torch.nn.modules.upsampling.Upsample         [None, 2, 'nearest']          \n",
      " 11             [-1, 6]  1         0  ultralytics.nn.modules.conv.Concat           [1]                           \n",
      " 12                  -1  1    148224  ultralytics.nn.modules.block.C2f             [384, 128, 1]                 \n",
      " 13                  -1  1         0  torch.nn.modules.upsampling.Upsample         [None, 2, 'nearest']          \n",
      " 14             [-1, 4]  1         0  ultralytics.nn.modules.conv.Concat           [1]                           \n",
      " 15                  -1  1     37248  ultralytics.nn.modules.block.C2f             [192, 64, 1]                  \n",
      " 16                  -1  1     36992  ultralytics.nn.modules.conv.Conv             [64, 64, 3, 2]                \n",
      " 17            [-1, 12]  1         0  ultralytics.nn.modules.conv.Concat           [1]                           \n",
      " 18                  -1  1    123648  ultralytics.nn.modules.block.C2f             [192, 128, 1]                 \n",
      " 19                  -1  1    147712  ultralytics.nn.modules.conv.Conv             [128, 128, 3, 2]              \n",
      " 20             [-1, 9]  1         0  ultralytics.nn.modules.conv.Concat           [1]                           \n",
      " 21                  -1  1    493056  ultralytics.nn.modules.block.C2f             [384, 256, 1]                 \n",
      " 22        [15, 18, 21]  1    752092  ultralytics.nn.modules.head.Detect           [4, [64, 128, 256]]           \n",
      "Model summary: 129 layers, 3,011,628 parameters, 3,011,612 gradients, 8.2 GFLOPs\n",
      "\n",
      "Transferred 319/355 items from pretrained weights\n",
      "Freezing layer 'model.22.dfl.conv.weight'\n",
      "\u001b[34m\u001b[1mtrain: \u001b[0mFast image access ✅ (ping: 0.0±0.0 ms, read: 57.6±20.5 MB/s, size: 12.1 KB)\n"
     ]
    },
    {
     "name": "stderr",
     "output_type": "stream",
     "text": [
      "\u001b[34m\u001b[1mtrain: \u001b[0mScanning /Users/denizcemcangoz/Desktop/my_dataset/labels/train... 15 images, 5 backgrounds, 0 corrupt: 100%|██████████| 20/20 [00:00<00:00, 1332.63it/s]"
     ]
    },
    {
     "name": "stdout",
     "output_type": "stream",
     "text": [
      "\u001b[34m\u001b[1mtrain: \u001b[0mNew cache created: /Users/denizcemcangoz/Desktop/my_dataset/labels/train.cache\n",
      "\u001b[34m\u001b[1mval: \u001b[0mFast image access ✅ (ping: 0.0±0.0 ms, read: 609.6±250.9 MB/s, size: 11.2 KB)\n"
     ]
    },
    {
     "name": "stderr",
     "output_type": "stream",
     "text": [
      "\n",
      "\u001b[34m\u001b[1mval: \u001b[0mScanning /Users/denizcemcangoz/Desktop/my_dataset/labels/train.cache... 15 images, 5 backgrounds, 0 corrupt: 100%|██████████| 20/20 [00:00<?, ?it/s]\n"
     ]
    },
    {
     "name": "stdout",
     "output_type": "stream",
     "text": [
      "Plotting labels to runs/detect/train/labels.jpg... \n",
      "\u001b[34m\u001b[1moptimizer:\u001b[0m 'optimizer=auto' found, ignoring 'lr0=0.01' and 'momentum=0.937' and determining best 'optimizer', 'lr0' and 'momentum' automatically... \n",
      "\u001b[34m\u001b[1moptimizer:\u001b[0m AdamW(lr=0.00125, momentum=0.9) with parameter groups 57 weight(decay=0.0), 64 weight(decay=0.0005), 63 bias(decay=0.0)\n",
      "Image sizes 640 train, 640 val\n",
      "Using 0 dataloader workers\n",
      "Logging results to \u001b[1mruns/detect/train\u001b[0m\n",
      "Starting training for 100 epochs...\n",
      "\n",
      "      Epoch    GPU_mem   box_loss   cls_loss   dfl_loss  Instances       Size\n"
     ]
    },
    {
     "name": "stderr",
     "output_type": "stream",
     "text": [
      "      1/100         0G      1.254      3.606      1.564         13        640: 100%|██████████| 2/2 [00:08<00:00,  4.38s/it]\n",
      "                 Class     Images  Instances      Box(P          R      mAP50  mAP50-95): 100%|██████████| 1/1 [00:02<00:00,  2.39s/it]"
     ]
    },
    {
     "name": "stdout",
     "output_type": "stream",
     "text": [
      "                   all         20         20    0.00313       0.95     0.0285     0.0194\n"
     ]
    },
    {
     "name": "stderr",
     "output_type": "stream",
     "text": [
      "\n"
     ]
    },
    {
     "name": "stdout",
     "output_type": "stream",
     "text": [
      "\n",
      "      Epoch    GPU_mem   box_loss   cls_loss   dfl_loss  Instances       Size\n"
     ]
    },
    {
     "name": "stderr",
     "output_type": "stream",
     "text": [
      "      2/100         0G      1.141       3.47      1.591         10        640: 100%|██████████| 2/2 [00:08<00:00,  4.28s/it]\n",
      "                 Class     Images  Instances      Box(P          R      mAP50  mAP50-95): 100%|██████████| 1/1 [00:02<00:00,  2.28s/it]"
     ]
    },
    {
     "name": "stdout",
     "output_type": "stream",
     "text": [
      "                   all         20         20    0.00337          1     0.0418      0.027\n",
      "\n",
      "      Epoch    GPU_mem   box_loss   cls_loss   dfl_loss  Instances       Size\n"
     ]
    },
    {
     "name": "stderr",
     "output_type": "stream",
     "text": [
      "\n",
      "      3/100         0G      1.107      3.396      1.495         13        640: 100%|██████████| 2/2 [00:07<00:00,  3.85s/it]\n",
      "                 Class     Images  Instances      Box(P          R      mAP50  mAP50-95): 100%|██████████| 1/1 [00:02<00:00,  2.29s/it]"
     ]
    },
    {
     "name": "stdout",
     "output_type": "stream",
     "text": [
      "                   all         20         20    0.00329       0.95     0.0935     0.0602\n",
      "\n",
      "      Epoch    GPU_mem   box_loss   cls_loss   dfl_loss  Instances       Size\n"
     ]
    },
    {
     "name": "stderr",
     "output_type": "stream",
     "text": [
      "\n",
      "      4/100         0G      0.876      3.342      1.316         11        640: 100%|██████████| 2/2 [00:07<00:00,  3.84s/it]\n",
      "                 Class     Images  Instances      Box(P          R      mAP50  mAP50-95): 100%|██████████| 1/1 [00:02<00:00,  2.35s/it]"
     ]
    },
    {
     "name": "stdout",
     "output_type": "stream",
     "text": [
      "                   all         20         20    0.00351       0.95      0.208      0.153\n",
      "\n",
      "      Epoch    GPU_mem   box_loss   cls_loss   dfl_loss  Instances       Size\n"
     ]
    },
    {
     "name": "stderr",
     "output_type": "stream",
     "text": [
      "\n",
      "      5/100         0G     0.8853      3.405      1.309          9        640: 100%|██████████| 2/2 [00:07<00:00,  3.88s/it]\n",
      "                 Class     Images  Instances      Box(P          R      mAP50  mAP50-95): 100%|██████████| 1/1 [00:02<00:00,  2.32s/it]"
     ]
    },
    {
     "name": "stdout",
     "output_type": "stream",
     "text": [
      "                   all         20         20    0.00377       0.95      0.438      0.355\n",
      "\n",
      "      Epoch    GPU_mem   box_loss   cls_loss   dfl_loss  Instances       Size\n"
     ]
    },
    {
     "name": "stderr",
     "output_type": "stream",
     "text": [
      "\n",
      "      6/100         0G      1.048      3.099      1.473         11        640: 100%|██████████| 2/2 [00:07<00:00,  3.84s/it]\n",
      "                 Class     Images  Instances      Box(P          R      mAP50  mAP50-95): 100%|██████████| 1/1 [00:02<00:00,  2.33s/it]"
     ]
    },
    {
     "name": "stdout",
     "output_type": "stream",
     "text": [
      "                   all         20         20    0.00404       0.95      0.579      0.454\n",
      "\n",
      "      Epoch    GPU_mem   box_loss   cls_loss   dfl_loss  Instances       Size\n"
     ]
    },
    {
     "name": "stderr",
     "output_type": "stream",
     "text": [
      "\n",
      "      7/100         0G      1.062      3.132      1.518          8        640: 100%|██████████| 2/2 [00:07<00:00,  3.85s/it]\n",
      "                 Class     Images  Instances      Box(P          R      mAP50  mAP50-95): 100%|██████████| 1/1 [00:02<00:00,  2.35s/it]"
     ]
    },
    {
     "name": "stdout",
     "output_type": "stream",
     "text": [
      "                   all         20         20    0.00441       0.95      0.614      0.464\n",
      "\n",
      "      Epoch    GPU_mem   box_loss   cls_loss   dfl_loss  Instances       Size\n"
     ]
    },
    {
     "name": "stderr",
     "output_type": "stream",
     "text": [
      "\n",
      "      8/100         0G     0.8933      2.782      1.389          7        640: 100%|██████████| 2/2 [00:07<00:00,  3.87s/it]\n",
      "                 Class     Images  Instances      Box(P          R      mAP50  mAP50-95): 100%|██████████| 1/1 [00:02<00:00,  2.33s/it]"
     ]
    },
    {
     "name": "stdout",
     "output_type": "stream",
     "text": [
      "                   all         20         20    0.00478       0.95      0.636      0.505\n"
     ]
    },
    {
     "name": "stderr",
     "output_type": "stream",
     "text": [
      "\n"
     ]
    },
    {
     "name": "stdout",
     "output_type": "stream",
     "text": [
      "\n",
      "      Epoch    GPU_mem   box_loss   cls_loss   dfl_loss  Instances       Size\n"
     ]
    },
    {
     "name": "stderr",
     "output_type": "stream",
     "text": [
      "      9/100         0G     0.8165      2.472      1.266         12        640: 100%|██████████| 2/2 [00:07<00:00,  3.84s/it]\n",
      "                 Class     Images  Instances      Box(P          R      mAP50  mAP50-95): 100%|██████████| 1/1 [00:02<00:00,  2.32s/it]"
     ]
    },
    {
     "name": "stdout",
     "output_type": "stream",
     "text": [
      "                   all         20         20    0.00479       0.95      0.667      0.542\n",
      "\n",
      "      Epoch    GPU_mem   box_loss   cls_loss   dfl_loss  Instances       Size\n"
     ]
    },
    {
     "name": "stderr",
     "output_type": "stream",
     "text": [
      "\n",
      "     10/100         0G     0.9344      2.149        1.3         11        640: 100%|██████████| 2/2 [00:07<00:00,  3.86s/it]\n",
      "                 Class     Images  Instances      Box(P          R      mAP50  mAP50-95): 100%|██████████| 1/1 [00:02<00:00,  2.36s/it]"
     ]
    },
    {
     "name": "stdout",
     "output_type": "stream",
     "text": [
      "                   all         20         20    0.00483       0.95      0.697      0.589\n",
      "\n",
      "      Epoch    GPU_mem   box_loss   cls_loss   dfl_loss  Instances       Size\n"
     ]
    },
    {
     "name": "stderr",
     "output_type": "stream",
     "text": [
      "\n",
      "     11/100         0G     0.8945      2.237      1.318          7        640: 100%|██████████| 2/2 [00:07<00:00,  3.82s/it]\n",
      "                 Class     Images  Instances      Box(P          R      mAP50  mAP50-95): 100%|██████████| 1/1 [00:02<00:00,  2.33s/it]"
     ]
    },
    {
     "name": "stdout",
     "output_type": "stream",
     "text": [
      "                   all         20         20     0.0049       0.95      0.674      0.586\n",
      "\n",
      "      Epoch    GPU_mem   box_loss   cls_loss   dfl_loss  Instances       Size\n"
     ]
    },
    {
     "name": "stderr",
     "output_type": "stream",
     "text": [
      "\n",
      "     12/100         0G     0.7942       1.96      1.216         12        640: 100%|██████████| 2/2 [00:07<00:00,  3.83s/it]\n",
      "                 Class     Images  Instances      Box(P          R      mAP50  mAP50-95): 100%|██████████| 1/1 [00:02<00:00,  2.34s/it]"
     ]
    },
    {
     "name": "stdout",
     "output_type": "stream",
     "text": [
      "                   all         20         20    0.00492       0.95      0.636      0.546\n",
      "\n",
      "      Epoch    GPU_mem   box_loss   cls_loss   dfl_loss  Instances       Size\n"
     ]
    },
    {
     "name": "stderr",
     "output_type": "stream",
     "text": [
      "\n",
      "     13/100         0G     0.6965      2.064      1.164          8        640: 100%|██████████| 2/2 [00:08<00:00,  4.26s/it]\n",
      "                 Class     Images  Instances      Box(P          R      mAP50  mAP50-95): 100%|██████████| 1/1 [00:02<00:00,  2.36s/it]"
     ]
    },
    {
     "name": "stdout",
     "output_type": "stream",
     "text": [
      "                   all         20         20    0.00492       0.95      0.592      0.514\n",
      "\n",
      "      Epoch    GPU_mem   box_loss   cls_loss   dfl_loss  Instances       Size\n"
     ]
    },
    {
     "name": "stderr",
     "output_type": "stream",
     "text": [
      "\n",
      "     14/100         0G     0.8198      1.916      1.213          9        640: 100%|██████████| 2/2 [00:08<00:00,  4.28s/it]\n",
      "                 Class     Images  Instances      Box(P          R      mAP50  mAP50-95): 100%|██████████| 1/1 [00:02<00:00,  2.31s/it]"
     ]
    },
    {
     "name": "stdout",
     "output_type": "stream",
     "text": [
      "                   all         20         20    0.00481       0.95      0.539      0.457\n",
      "\n",
      "      Epoch    GPU_mem   box_loss   cls_loss   dfl_loss  Instances       Size\n"
     ]
    },
    {
     "name": "stderr",
     "output_type": "stream",
     "text": [
      "\n",
      "     15/100         0G     0.8434       2.14      1.262          9        640: 100%|██████████| 2/2 [00:07<00:00,  3.84s/it]\n",
      "                 Class     Images  Instances      Box(P          R      mAP50  mAP50-95): 100%|██████████| 1/1 [00:02<00:00,  2.31s/it]"
     ]
    },
    {
     "name": "stdout",
     "output_type": "stream",
     "text": [
      "                   all         20         20      0.322      0.531       0.55      0.473\n",
      "\n",
      "      Epoch    GPU_mem   box_loss   cls_loss   dfl_loss  Instances       Size\n"
     ]
    },
    {
     "name": "stderr",
     "output_type": "stream",
     "text": [
      "\n",
      "     16/100         0G     0.6701      1.659      1.056         12        640: 100%|██████████| 2/2 [00:07<00:00,  3.88s/it]\n",
      "                 Class     Images  Instances      Box(P          R      mAP50  mAP50-95): 100%|██████████| 1/1 [00:02<00:00,  2.30s/it]"
     ]
    },
    {
     "name": "stdout",
     "output_type": "stream",
     "text": [
      "                   all         20         20      0.951      0.286      0.547      0.457\n",
      "\n",
      "      Epoch    GPU_mem   box_loss   cls_loss   dfl_loss  Instances       Size\n"
     ]
    },
    {
     "name": "stderr",
     "output_type": "stream",
     "text": [
      "\n",
      "     17/100         0G      0.715      1.876      1.218          8        640: 100%|██████████| 2/2 [00:07<00:00,  3.78s/it]\n",
      "                 Class     Images  Instances      Box(P          R      mAP50  mAP50-95): 100%|██████████| 1/1 [00:02<00:00,  2.28s/it]"
     ]
    },
    {
     "name": "stdout",
     "output_type": "stream",
     "text": [
      "                   all         20         20          1      0.134      0.524      0.396\n",
      "\n",
      "      Epoch    GPU_mem   box_loss   cls_loss   dfl_loss  Instances       Size\n"
     ]
    },
    {
     "name": "stderr",
     "output_type": "stream",
     "text": [
      "\n",
      "     18/100         0G     0.8307      1.836      1.239          7        640: 100%|██████████| 2/2 [00:07<00:00,  3.78s/it]\n",
      "                 Class     Images  Instances      Box(P          R      mAP50  mAP50-95): 100%|██████████| 1/1 [00:02<00:00,  2.32s/it]"
     ]
    },
    {
     "name": "stdout",
     "output_type": "stream",
     "text": [
      "                   all         20         20          1      0.121      0.587      0.445\n",
      "\n",
      "      Epoch    GPU_mem   box_loss   cls_loss   dfl_loss  Instances       Size\n"
     ]
    },
    {
     "name": "stderr",
     "output_type": "stream",
     "text": [
      "\n",
      "     19/100         0G     0.7437      1.647      1.179          9        640: 100%|██████████| 2/2 [00:07<00:00,  3.81s/it]\n",
      "                 Class     Images  Instances      Box(P          R      mAP50  mAP50-95): 100%|██████████| 1/1 [00:02<00:00,  2.31s/it]"
     ]
    },
    {
     "name": "stdout",
     "output_type": "stream",
     "text": [
      "                   all         20         20      0.754      0.568      0.669      0.494\n",
      "\n",
      "      Epoch    GPU_mem   box_loss   cls_loss   dfl_loss  Instances       Size\n"
     ]
    },
    {
     "name": "stderr",
     "output_type": "stream",
     "text": [
      "\n",
      "     20/100         0G     0.7613      1.583      1.184         13        640: 100%|██████████| 2/2 [00:07<00:00,  3.83s/it]\n",
      "                 Class     Images  Instances      Box(P          R      mAP50  mAP50-95): 100%|██████████| 1/1 [00:02<00:00,  2.31s/it]"
     ]
    },
    {
     "name": "stdout",
     "output_type": "stream",
     "text": [
      "                   all         20         20      0.633      0.582      0.683      0.529\n",
      "\n",
      "      Epoch    GPU_mem   box_loss   cls_loss   dfl_loss  Instances       Size\n"
     ]
    },
    {
     "name": "stderr",
     "output_type": "stream",
     "text": [
      "\n",
      "     21/100         0G     0.8892      1.992      1.306          7        640: 100%|██████████| 2/2 [00:07<00:00,  3.82s/it]\n",
      "                 Class     Images  Instances      Box(P          R      mAP50  mAP50-95): 100%|██████████| 1/1 [00:02<00:00,  2.31s/it]"
     ]
    },
    {
     "name": "stdout",
     "output_type": "stream",
     "text": [
      "                   all         20         20          1      0.131      0.716      0.549\n",
      "\n",
      "      Epoch    GPU_mem   box_loss   cls_loss   dfl_loss  Instances       Size\n"
     ]
    },
    {
     "name": "stderr",
     "output_type": "stream",
     "text": [
      "\n",
      "     22/100         0G     0.8458      1.708      1.304         13        640: 100%|██████████| 2/2 [00:07<00:00,  3.82s/it]\n",
      "                 Class     Images  Instances      Box(P          R      mAP50  mAP50-95): 100%|██████████| 1/1 [00:02<00:00,  2.34s/it]"
     ]
    },
    {
     "name": "stdout",
     "output_type": "stream",
     "text": [
      "                   all         20         20          1      0.145      0.777      0.589\n",
      "\n",
      "      Epoch    GPU_mem   box_loss   cls_loss   dfl_loss  Instances       Size\n"
     ]
    },
    {
     "name": "stderr",
     "output_type": "stream",
     "text": [
      "\n",
      "     23/100         0G     0.8199      1.453      1.225         11        640: 100%|██████████| 2/2 [00:07<00:00,  3.81s/it]\n",
      "                 Class     Images  Instances      Box(P          R      mAP50  mAP50-95): 100%|██████████| 1/1 [00:02<00:00,  2.31s/it]"
     ]
    },
    {
     "name": "stdout",
     "output_type": "stream",
     "text": [
      "                   all         20         20          1      0.269      0.829      0.588\n",
      "\n",
      "      Epoch    GPU_mem   box_loss   cls_loss   dfl_loss  Instances       Size\n"
     ]
    },
    {
     "name": "stderr",
     "output_type": "stream",
     "text": [
      "\n",
      "     24/100         0G     0.8027      1.635       1.26         10        640: 100%|██████████| 2/2 [00:07<00:00,  3.80s/it]\n",
      "                 Class     Images  Instances      Box(P          R      mAP50  mAP50-95): 100%|██████████| 1/1 [00:02<00:00,  2.34s/it]"
     ]
    },
    {
     "name": "stdout",
     "output_type": "stream",
     "text": [
      "                   all         20         20      0.978      0.366      0.799      0.639\n",
      "\n",
      "      Epoch    GPU_mem   box_loss   cls_loss   dfl_loss  Instances       Size\n"
     ]
    },
    {
     "name": "stderr",
     "output_type": "stream",
     "text": [
      "\n",
      "     25/100         0G     0.7344      1.416       1.09         18        640: 100%|██████████| 2/2 [00:07<00:00,  3.81s/it]\n",
      "                 Class     Images  Instances      Box(P          R      mAP50  mAP50-95): 100%|██████████| 1/1 [00:02<00:00,  2.30s/it]"
     ]
    },
    {
     "name": "stdout",
     "output_type": "stream",
     "text": [
      "                   all         20         20          1      0.417       0.75      0.606\n",
      "\n",
      "      Epoch    GPU_mem   box_loss   cls_loss   dfl_loss  Instances       Size\n"
     ]
    },
    {
     "name": "stderr",
     "output_type": "stream",
     "text": [
      "\n",
      "     26/100         0G     0.7197      1.527      1.144         11        640: 100%|██████████| 2/2 [00:07<00:00,  3.80s/it]\n",
      "                 Class     Images  Instances      Box(P          R      mAP50  mAP50-95): 100%|██████████| 1/1 [00:02<00:00,  2.31s/it]"
     ]
    },
    {
     "name": "stdout",
     "output_type": "stream",
     "text": [
      "                   all         20         20          1      0.396      0.766      0.623\n",
      "\n",
      "      Epoch    GPU_mem   box_loss   cls_loss   dfl_loss  Instances       Size\n"
     ]
    },
    {
     "name": "stderr",
     "output_type": "stream",
     "text": [
      "\n",
      "     27/100         0G      1.096      2.271      1.471          8        640: 100%|██████████| 2/2 [00:07<00:00,  3.79s/it]\n",
      "                 Class     Images  Instances      Box(P          R      mAP50  mAP50-95): 100%|██████████| 1/1 [00:02<00:00,  2.30s/it]"
     ]
    },
    {
     "name": "stdout",
     "output_type": "stream",
     "text": [
      "                   all         20         20      0.963       0.41      0.764      0.617\n",
      "\n",
      "      Epoch    GPU_mem   box_loss   cls_loss   dfl_loss  Instances       Size\n"
     ]
    },
    {
     "name": "stderr",
     "output_type": "stream",
     "text": [
      "\n",
      "     28/100         0G     0.8457      1.709      1.203          6        640: 100%|██████████| 2/2 [00:07<00:00,  3.79s/it]\n",
      "                 Class     Images  Instances      Box(P          R      mAP50  mAP50-95): 100%|██████████| 1/1 [00:02<00:00,  2.32s/it]"
     ]
    },
    {
     "name": "stdout",
     "output_type": "stream",
     "text": [
      "                   all         20         20      0.963       0.41      0.764      0.617\n",
      "\n",
      "      Epoch    GPU_mem   box_loss   cls_loss   dfl_loss  Instances       Size\n"
     ]
    },
    {
     "name": "stderr",
     "output_type": "stream",
     "text": [
      "\n",
      "     29/100         0G     0.8687      1.619      1.208         14        640: 100%|██████████| 2/2 [00:07<00:00,  3.81s/it]\n",
      "                 Class     Images  Instances      Box(P          R      mAP50  mAP50-95): 100%|██████████| 1/1 [00:02<00:00,  2.29s/it]"
     ]
    },
    {
     "name": "stdout",
     "output_type": "stream",
     "text": [
      "                   all         20         20      0.884      0.621      0.783      0.591\n",
      "\n",
      "      Epoch    GPU_mem   box_loss   cls_loss   dfl_loss  Instances       Size\n"
     ]
    },
    {
     "name": "stderr",
     "output_type": "stream",
     "text": [
      "\n",
      "     30/100         0G     0.8177      1.577      1.275          9        640: 100%|██████████| 2/2 [00:07<00:00,  3.86s/it]\n",
      "                 Class     Images  Instances      Box(P          R      mAP50  mAP50-95): 100%|██████████| 1/1 [00:02<00:00,  2.28s/it]"
     ]
    },
    {
     "name": "stdout",
     "output_type": "stream",
     "text": [
      "                   all         20         20       0.71       0.69       0.85       0.58\n",
      "\n",
      "      Epoch    GPU_mem   box_loss   cls_loss   dfl_loss  Instances       Size\n"
     ]
    },
    {
     "name": "stderr",
     "output_type": "stream",
     "text": [
      "\n",
      "     31/100         0G     0.9336      1.586      1.275          9        640: 100%|██████████| 2/2 [00:07<00:00,  3.83s/it]\n",
      "                 Class     Images  Instances      Box(P          R      mAP50  mAP50-95): 100%|██████████| 1/1 [00:02<00:00,  2.32s/it]"
     ]
    },
    {
     "name": "stdout",
     "output_type": "stream",
     "text": [
      "                   all         20         20       0.71       0.69       0.85       0.58\n",
      "\n",
      "      Epoch    GPU_mem   box_loss   cls_loss   dfl_loss  Instances       Size\n"
     ]
    },
    {
     "name": "stderr",
     "output_type": "stream",
     "text": [
      "\n",
      "     32/100         0G     0.9594      1.707      1.265          8        640: 100%|██████████| 2/2 [00:07<00:00,  3.81s/it]\n",
      "                 Class     Images  Instances      Box(P          R      mAP50  mAP50-95): 100%|██████████| 1/1 [00:02<00:00,  2.36s/it]"
     ]
    },
    {
     "name": "stdout",
     "output_type": "stream",
     "text": [
      "                   all         20         20      0.758      0.783      0.829      0.667\n",
      "\n",
      "      Epoch    GPU_mem   box_loss   cls_loss   dfl_loss  Instances       Size\n"
     ]
    },
    {
     "name": "stderr",
     "output_type": "stream",
     "text": [
      "\n",
      "     33/100         0G     0.7217      1.452      1.199          9        640: 100%|██████████| 2/2 [00:07<00:00,  3.81s/it]\n",
      "                 Class     Images  Instances      Box(P          R      mAP50  mAP50-95): 100%|██████████| 1/1 [00:02<00:00,  2.32s/it]"
     ]
    },
    {
     "name": "stdout",
     "output_type": "stream",
     "text": [
      "                   all         20         20      0.775      0.783      0.834      0.658\n",
      "\n",
      "      Epoch    GPU_mem   box_loss   cls_loss   dfl_loss  Instances       Size\n"
     ]
    },
    {
     "name": "stderr",
     "output_type": "stream",
     "text": [
      "\n",
      "     34/100         0G      0.725      1.492      1.133          8        640: 100%|██████████| 2/2 [00:07<00:00,  3.80s/it]\n",
      "                 Class     Images  Instances      Box(P          R      mAP50  mAP50-95): 100%|██████████| 1/1 [00:02<00:00,  2.32s/it]"
     ]
    },
    {
     "name": "stdout",
     "output_type": "stream",
     "text": [
      "                   all         20         20      0.775      0.783      0.834      0.658\n",
      "\n",
      "      Epoch    GPU_mem   box_loss   cls_loss   dfl_loss  Instances       Size\n"
     ]
    },
    {
     "name": "stderr",
     "output_type": "stream",
     "text": [
      "\n",
      "     35/100         0G     0.8714      1.692      1.316          8        640: 100%|██████████| 2/2 [00:07<00:00,  3.84s/it]\n",
      "                 Class     Images  Instances      Box(P          R      mAP50  mAP50-95): 100%|██████████| 1/1 [00:02<00:00,  2.34s/it]"
     ]
    },
    {
     "name": "stdout",
     "output_type": "stream",
     "text": [
      "                   all         20         20      0.915      0.824      0.946      0.732\n",
      "\n",
      "      Epoch    GPU_mem   box_loss   cls_loss   dfl_loss  Instances       Size\n"
     ]
    },
    {
     "name": "stderr",
     "output_type": "stream",
     "text": [
      "\n",
      "     36/100         0G     0.7862      1.542      1.237          8        640: 100%|██████████| 2/2 [00:07<00:00,  3.83s/it]\n",
      "                 Class     Images  Instances      Box(P          R      mAP50  mAP50-95): 100%|██████████| 1/1 [00:02<00:00,  2.34s/it]"
     ]
    },
    {
     "name": "stdout",
     "output_type": "stream",
     "text": [
      "                   all         20         20      0.943      0.867      0.947      0.753\n",
      "\n",
      "      Epoch    GPU_mem   box_loss   cls_loss   dfl_loss  Instances       Size\n"
     ]
    },
    {
     "name": "stderr",
     "output_type": "stream",
     "text": [
      "\n",
      "     37/100         0G     0.8413      1.706      1.209         11        640: 100%|██████████| 2/2 [00:07<00:00,  3.82s/it]\n",
      "                 Class     Images  Instances      Box(P          R      mAP50  mAP50-95): 100%|██████████| 1/1 [00:02<00:00,  2.34s/it]"
     ]
    },
    {
     "name": "stdout",
     "output_type": "stream",
     "text": [
      "                   all         20         20      0.943      0.867      0.947      0.753\n",
      "\n",
      "      Epoch    GPU_mem   box_loss   cls_loss   dfl_loss  Instances       Size\n"
     ]
    },
    {
     "name": "stderr",
     "output_type": "stream",
     "text": [
      "\n",
      "     38/100         0G     0.7142      1.253      1.133         14        640: 100%|██████████| 2/2 [00:07<00:00,  3.82s/it]\n",
      "                 Class     Images  Instances      Box(P          R      mAP50  mAP50-95): 100%|██████████| 1/1 [00:02<00:00,  2.33s/it]"
     ]
    },
    {
     "name": "stdout",
     "output_type": "stream",
     "text": [
      "                   all         20         20      0.873       0.86      0.927      0.724\n",
      "\n",
      "      Epoch    GPU_mem   box_loss   cls_loss   dfl_loss  Instances       Size\n"
     ]
    },
    {
     "name": "stderr",
     "output_type": "stream",
     "text": [
      "\n",
      "     39/100         0G     0.7501      1.822      1.267          5        640: 100%|██████████| 2/2 [00:07<00:00,  3.85s/it]\n",
      "                 Class     Images  Instances      Box(P          R      mAP50  mAP50-95): 100%|██████████| 1/1 [00:02<00:00,  2.33s/it]"
     ]
    },
    {
     "name": "stdout",
     "output_type": "stream",
     "text": [
      "                   all         20         20      0.804       0.83      0.922      0.715\n",
      "\n",
      "      Epoch    GPU_mem   box_loss   cls_loss   dfl_loss  Instances       Size\n"
     ]
    },
    {
     "name": "stderr",
     "output_type": "stream",
     "text": [
      "\n",
      "     40/100         0G      0.739      1.384      1.048         11        640: 100%|██████████| 2/2 [00:07<00:00,  3.78s/it]\n",
      "                 Class     Images  Instances      Box(P          R      mAP50  mAP50-95): 100%|██████████| 1/1 [00:02<00:00,  2.32s/it]"
     ]
    },
    {
     "name": "stdout",
     "output_type": "stream",
     "text": [
      "                   all         20         20      0.804       0.83      0.922      0.715\n",
      "\n",
      "      Epoch    GPU_mem   box_loss   cls_loss   dfl_loss  Instances       Size\n"
     ]
    },
    {
     "name": "stderr",
     "output_type": "stream",
     "text": [
      "\n",
      "     41/100         0G     0.8199      1.634      1.212         14        640: 100%|██████████| 2/2 [00:07<00:00,  3.84s/it]\n",
      "                 Class     Images  Instances      Box(P          R      mAP50  mAP50-95): 100%|██████████| 1/1 [00:02<00:00,  2.36s/it]"
     ]
    },
    {
     "name": "stdout",
     "output_type": "stream",
     "text": [
      "                   all         20         20      0.787      0.871      0.914      0.716\n",
      "\n",
      "      Epoch    GPU_mem   box_loss   cls_loss   dfl_loss  Instances       Size\n"
     ]
    },
    {
     "name": "stderr",
     "output_type": "stream",
     "text": [
      "\n",
      "     42/100         0G     0.6974       1.34      1.142          9        640: 100%|██████████| 2/2 [00:07<00:00,  3.85s/it]\n",
      "                 Class     Images  Instances      Box(P          R      mAP50  mAP50-95): 100%|██████████| 1/1 [00:02<00:00,  2.31s/it]"
     ]
    },
    {
     "name": "stdout",
     "output_type": "stream",
     "text": [
      "                   all         20         20      0.701      0.794      0.876      0.701\n",
      "\n",
      "      Epoch    GPU_mem   box_loss   cls_loss   dfl_loss  Instances       Size\n"
     ]
    },
    {
     "name": "stderr",
     "output_type": "stream",
     "text": [
      "\n",
      "     43/100         0G     0.7774      1.277      1.177         12        640: 100%|██████████| 2/2 [00:07<00:00,  3.83s/it]\n",
      "                 Class     Images  Instances      Box(P          R      mAP50  mAP50-95): 100%|██████████| 1/1 [00:02<00:00,  2.33s/it]"
     ]
    },
    {
     "name": "stdout",
     "output_type": "stream",
     "text": [
      "                   all         20         20      0.701      0.794      0.876      0.701\n",
      "\n",
      "      Epoch    GPU_mem   box_loss   cls_loss   dfl_loss  Instances       Size\n"
     ]
    },
    {
     "name": "stderr",
     "output_type": "stream",
     "text": [
      "\n",
      "     44/100         0G     0.7853      1.709      1.269          8        640: 100%|██████████| 2/2 [00:07<00:00,  3.83s/it]\n",
      "                 Class     Images  Instances      Box(P          R      mAP50  mAP50-95): 100%|██████████| 1/1 [00:02<00:00,  2.32s/it]"
     ]
    },
    {
     "name": "stdout",
     "output_type": "stream",
     "text": [
      "                   all         20         20      0.748      0.782      0.889      0.702\n",
      "\n",
      "      Epoch    GPU_mem   box_loss   cls_loss   dfl_loss  Instances       Size\n"
     ]
    },
    {
     "name": "stderr",
     "output_type": "stream",
     "text": [
      "\n",
      "     45/100         0G     0.7407      1.249      1.148         17        640: 100%|██████████| 2/2 [00:07<00:00,  3.81s/it]\n",
      "                 Class     Images  Instances      Box(P          R      mAP50  mAP50-95): 100%|██████████| 1/1 [00:02<00:00,  2.33s/it]"
     ]
    },
    {
     "name": "stdout",
     "output_type": "stream",
     "text": [
      "                   all         20         20      0.748      0.782      0.889      0.702\n",
      "\n",
      "      Epoch    GPU_mem   box_loss   cls_loss   dfl_loss  Instances       Size\n"
     ]
    },
    {
     "name": "stderr",
     "output_type": "stream",
     "text": [
      "\n",
      "     46/100         0G     0.7379      1.422      1.162         10        640: 100%|██████████| 2/2 [00:07<00:00,  3.83s/it]\n",
      "                 Class     Images  Instances      Box(P          R      mAP50  mAP50-95): 100%|██████████| 1/1 [00:02<00:00,  2.32s/it]"
     ]
    },
    {
     "name": "stdout",
     "output_type": "stream",
     "text": [
      "                   all         20         20      0.982      0.576      0.857      0.689\n",
      "\n",
      "      Epoch    GPU_mem   box_loss   cls_loss   dfl_loss  Instances       Size\n"
     ]
    },
    {
     "name": "stderr",
     "output_type": "stream",
     "text": [
      "\n",
      "     47/100         0G     0.5886      1.168     0.9955          7        640: 100%|██████████| 2/2 [00:07<00:00,  3.84s/it]\n",
      "                 Class     Images  Instances      Box(P          R      mAP50  mAP50-95): 100%|██████████| 1/1 [00:02<00:00,  2.33s/it]"
     ]
    },
    {
     "name": "stdout",
     "output_type": "stream",
     "text": [
      "                   all         20         20      0.982      0.576      0.857      0.689\n",
      "\n",
      "      Epoch    GPU_mem   box_loss   cls_loss   dfl_loss  Instances       Size\n"
     ]
    },
    {
     "name": "stderr",
     "output_type": "stream",
     "text": [
      "\n",
      "     48/100         0G     0.5473      2.308      1.042          2        640: 100%|██████████| 2/2 [00:08<00:00,  4.28s/it]\n",
      "                 Class     Images  Instances      Box(P          R      mAP50  mAP50-95): 100%|██████████| 1/1 [00:02<00:00,  2.31s/it]"
     ]
    },
    {
     "name": "stdout",
     "output_type": "stream",
     "text": [
      "                   all         20         20      0.929      0.654      0.889      0.733\n",
      "\n",
      "      Epoch    GPU_mem   box_loss   cls_loss   dfl_loss  Instances       Size\n"
     ]
    },
    {
     "name": "stderr",
     "output_type": "stream",
     "text": [
      "\n",
      "     49/100         0G     0.8176       1.36      1.191          8        640: 100%|██████████| 2/2 [00:07<00:00,  3.80s/it]\n",
      "                 Class     Images  Instances      Box(P          R      mAP50  mAP50-95): 100%|██████████| 1/1 [00:02<00:00,  2.34s/it]"
     ]
    },
    {
     "name": "stdout",
     "output_type": "stream",
     "text": [
      "                   all         20         20      0.929      0.654      0.889      0.733\n",
      "\n",
      "      Epoch    GPU_mem   box_loss   cls_loss   dfl_loss  Instances       Size\n"
     ]
    },
    {
     "name": "stderr",
     "output_type": "stream",
     "text": [
      "\n",
      "     50/100         0G     0.8335      1.608      1.248          7        640: 100%|██████████| 2/2 [00:07<00:00,  3.94s/it]\n",
      "                 Class     Images  Instances      Box(P          R      mAP50  mAP50-95): 100%|██████████| 1/1 [00:02<00:00,  2.37s/it]"
     ]
    },
    {
     "name": "stdout",
     "output_type": "stream",
     "text": [
      "                   all         20         20      0.851      0.873      0.924      0.772\n",
      "\n",
      "      Epoch    GPU_mem   box_loss   cls_loss   dfl_loss  Instances       Size\n"
     ]
    },
    {
     "name": "stderr",
     "output_type": "stream",
     "text": [
      "\n",
      "     51/100         0G     0.7471      1.335      1.267          6        640: 100%|██████████| 2/2 [00:07<00:00,  3.91s/it]\n",
      "                 Class     Images  Instances      Box(P          R      mAP50  mAP50-95): 100%|██████████| 1/1 [00:02<00:00,  2.34s/it]"
     ]
    },
    {
     "name": "stdout",
     "output_type": "stream",
     "text": [
      "                   all         20         20      0.851      0.873      0.924      0.772\n",
      "\n",
      "      Epoch    GPU_mem   box_loss   cls_loss   dfl_loss  Instances       Size\n"
     ]
    },
    {
     "name": "stderr",
     "output_type": "stream",
     "text": [
      "\n",
      "     52/100         0G     0.6777      1.421      1.097          7        640: 100%|██████████| 2/2 [00:07<00:00,  3.85s/it]\n",
      "                 Class     Images  Instances      Box(P          R      mAP50  mAP50-95): 100%|██████████| 1/1 [00:02<00:00,  2.35s/it]"
     ]
    },
    {
     "name": "stdout",
     "output_type": "stream",
     "text": [
      "                   all         20         20      0.958      0.896      0.974      0.809\n"
     ]
    },
    {
     "name": "stderr",
     "output_type": "stream",
     "text": [
      "\n"
     ]
    },
    {
     "name": "stdout",
     "output_type": "stream",
     "text": [
      "\n",
      "      Epoch    GPU_mem   box_loss   cls_loss   dfl_loss  Instances       Size\n"
     ]
    },
    {
     "name": "stderr",
     "output_type": "stream",
     "text": [
      "     53/100         0G     0.7084      1.225      1.203         16        640: 100%|██████████| 2/2 [00:07<00:00,  3.81s/it]\n",
      "                 Class     Images  Instances      Box(P          R      mAP50  mAP50-95): 100%|██████████| 1/1 [00:02<00:00,  2.33s/it]"
     ]
    },
    {
     "name": "stdout",
     "output_type": "stream",
     "text": [
      "                   all         20         20      0.958      0.896      0.974      0.809\n",
      "\n",
      "      Epoch    GPU_mem   box_loss   cls_loss   dfl_loss  Instances       Size\n"
     ]
    },
    {
     "name": "stderr",
     "output_type": "stream",
     "text": [
      "\n",
      "     54/100         0G     0.6144      1.171      1.034         13        640: 100%|██████████| 2/2 [00:07<00:00,  3.86s/it]\n",
      "                 Class     Images  Instances      Box(P          R      mAP50  mAP50-95): 100%|██████████| 1/1 [00:02<00:00,  2.34s/it]"
     ]
    },
    {
     "name": "stdout",
     "output_type": "stream",
     "text": [
      "                   all         20         20      0.868      0.997       0.97      0.779\n",
      "\n",
      "      Epoch    GPU_mem   box_loss   cls_loss   dfl_loss  Instances       Size\n"
     ]
    },
    {
     "name": "stderr",
     "output_type": "stream",
     "text": [
      "\n",
      "     55/100         0G     0.7209      1.574      1.161          8        640: 100%|██████████| 2/2 [00:07<00:00,  3.85s/it]\n",
      "                 Class     Images  Instances      Box(P          R      mAP50  mAP50-95): 100%|██████████| 1/1 [00:02<00:00,  2.33s/it]"
     ]
    },
    {
     "name": "stdout",
     "output_type": "stream",
     "text": [
      "                   all         20         20      0.868      0.997       0.97      0.779\n",
      "\n",
      "      Epoch    GPU_mem   box_loss   cls_loss   dfl_loss  Instances       Size\n"
     ]
    },
    {
     "name": "stderr",
     "output_type": "stream",
     "text": [
      "\n",
      "     56/100         0G     0.6494      1.187      1.059         10        640: 100%|██████████| 2/2 [00:07<00:00,  3.87s/it]\n",
      "                 Class     Images  Instances      Box(P          R      mAP50  mAP50-95): 100%|██████████| 1/1 [00:02<00:00,  2.36s/it]"
     ]
    },
    {
     "name": "stdout",
     "output_type": "stream",
     "text": [
      "                   all         20         20      0.795      0.931      0.962      0.735\n",
      "\n",
      "      Epoch    GPU_mem   box_loss   cls_loss   dfl_loss  Instances       Size\n"
     ]
    },
    {
     "name": "stderr",
     "output_type": "stream",
     "text": [
      "\n",
      "     57/100         0G     0.8491      1.509       1.27          9        640: 100%|██████████| 2/2 [00:07<00:00,  3.88s/it]\n",
      "                 Class     Images  Instances      Box(P          R      mAP50  mAP50-95): 100%|██████████| 1/1 [00:02<00:00,  2.41s/it]"
     ]
    },
    {
     "name": "stdout",
     "output_type": "stream",
     "text": [
      "                   all         20         20      0.795      0.931      0.962      0.735\n",
      "\n",
      "      Epoch    GPU_mem   box_loss   cls_loss   dfl_loss  Instances       Size\n"
     ]
    },
    {
     "name": "stderr",
     "output_type": "stream",
     "text": [
      "\n",
      "     58/100         0G      0.688      1.221       1.12         18        640: 100%|██████████| 2/2 [00:07<00:00,  3.85s/it]\n",
      "                 Class     Images  Instances      Box(P          R      mAP50  mAP50-95): 100%|██████████| 1/1 [00:02<00:00,  2.33s/it]"
     ]
    },
    {
     "name": "stdout",
     "output_type": "stream",
     "text": [
      "                   all         20         20      0.762       0.91      0.949      0.734\n",
      "\n",
      "      Epoch    GPU_mem   box_loss   cls_loss   dfl_loss  Instances       Size\n"
     ]
    },
    {
     "name": "stderr",
     "output_type": "stream",
     "text": [
      "\n",
      "     59/100         0G     0.6862        1.5      1.134         10        640: 100%|██████████| 2/2 [00:07<00:00,  3.83s/it]\n",
      "                 Class     Images  Instances      Box(P          R      mAP50  mAP50-95): 100%|██████████| 1/1 [00:02<00:00,  2.31s/it]"
     ]
    },
    {
     "name": "stdout",
     "output_type": "stream",
     "text": [
      "                   all         20         20      0.762       0.91      0.949      0.734\n",
      "\n",
      "      Epoch    GPU_mem   box_loss   cls_loss   dfl_loss  Instances       Size\n"
     ]
    },
    {
     "name": "stderr",
     "output_type": "stream",
     "text": [
      "\n",
      "     60/100         0G     0.7445      1.391      1.166          7        640: 100%|██████████| 2/2 [00:07<00:00,  3.90s/it]\n",
      "                 Class     Images  Instances      Box(P          R      mAP50  mAP50-95): 100%|██████████| 1/1 [00:02<00:00,  2.30s/it]"
     ]
    },
    {
     "name": "stdout",
     "output_type": "stream",
     "text": [
      "                   all         20         20      0.832      0.887      0.974      0.814\n",
      "\n",
      "      Epoch    GPU_mem   box_loss   cls_loss   dfl_loss  Instances       Size\n"
     ]
    },
    {
     "name": "stderr",
     "output_type": "stream",
     "text": [
      "\n",
      "     61/100         0G     0.6544       1.16      1.098         14        640: 100%|██████████| 2/2 [00:07<00:00,  3.82s/it]\n",
      "                 Class     Images  Instances      Box(P          R      mAP50  mAP50-95): 100%|██████████| 1/1 [00:02<00:00,  2.35s/it]"
     ]
    },
    {
     "name": "stdout",
     "output_type": "stream",
     "text": [
      "                   all         20         20      0.832      0.887      0.974      0.814\n",
      "\n",
      "      Epoch    GPU_mem   box_loss   cls_loss   dfl_loss  Instances       Size\n"
     ]
    },
    {
     "name": "stderr",
     "output_type": "stream",
     "text": [
      "\n",
      "     62/100         0G     0.6641      1.124      1.079         12        640: 100%|██████████| 2/2 [00:07<00:00,  3.83s/it]\n",
      "                 Class     Images  Instances      Box(P          R      mAP50  mAP50-95): 100%|██████████| 1/1 [00:02<00:00,  2.35s/it]"
     ]
    },
    {
     "name": "stdout",
     "output_type": "stream",
     "text": [
      "                   all         20         20      0.802      0.939      0.995       0.88\n",
      "\n",
      "      Epoch    GPU_mem   box_loss   cls_loss   dfl_loss  Instances       Size\n"
     ]
    },
    {
     "name": "stderr",
     "output_type": "stream",
     "text": [
      "\n",
      "     63/100         0G     0.6241      1.128      1.096          8        640: 100%|██████████| 2/2 [00:07<00:00,  3.83s/it]\n",
      "                 Class     Images  Instances      Box(P          R      mAP50  mAP50-95): 100%|██████████| 1/1 [00:02<00:00,  2.33s/it]"
     ]
    },
    {
     "name": "stdout",
     "output_type": "stream",
     "text": [
      "                   all         20         20      0.802      0.939      0.995       0.88\n"
     ]
    },
    {
     "name": "stderr",
     "output_type": "stream",
     "text": [
      "\n"
     ]
    },
    {
     "name": "stdout",
     "output_type": "stream",
     "text": [
      "\n",
      "      Epoch    GPU_mem   box_loss   cls_loss   dfl_loss  Instances       Size\n"
     ]
    },
    {
     "name": "stderr",
     "output_type": "stream",
     "text": [
      "     64/100         0G     0.6722      1.264      1.123         11        640: 100%|██████████| 2/2 [00:07<00:00,  3.84s/it]\n",
      "                 Class     Images  Instances      Box(P          R      mAP50  mAP50-95): 100%|██████████| 1/1 [00:02<00:00,  2.34s/it]"
     ]
    },
    {
     "name": "stdout",
     "output_type": "stream",
     "text": [
      "                   all         20         20      0.907      0.911      0.974      0.868\n",
      "\n",
      "      Epoch    GPU_mem   box_loss   cls_loss   dfl_loss  Instances       Size\n"
     ]
    },
    {
     "name": "stderr",
     "output_type": "stream",
     "text": [
      "\n",
      "     65/100         0G     0.6492       1.17      1.049          9        640: 100%|██████████| 2/2 [00:07<00:00,  3.81s/it]\n",
      "                 Class     Images  Instances      Box(P          R      mAP50  mAP50-95): 100%|██████████| 1/1 [00:02<00:00,  2.33s/it]"
     ]
    },
    {
     "name": "stdout",
     "output_type": "stream",
     "text": [
      "                   all         20         20      0.907      0.911      0.974      0.868\n",
      "\n",
      "      Epoch    GPU_mem   box_loss   cls_loss   dfl_loss  Instances       Size\n"
     ]
    },
    {
     "name": "stderr",
     "output_type": "stream",
     "text": [
      "\n",
      "     66/100         0G     0.5552      1.284       1.03         11        640: 100%|██████████| 2/2 [00:07<00:00,  3.83s/it]\n",
      "                 Class     Images  Instances      Box(P          R      mAP50  mAP50-95): 100%|██████████| 1/1 [00:02<00:00,  2.34s/it]"
     ]
    },
    {
     "name": "stdout",
     "output_type": "stream",
     "text": [
      "                   all         20         20      0.884      0.942      0.966      0.837\n",
      "\n",
      "      Epoch    GPU_mem   box_loss   cls_loss   dfl_loss  Instances       Size\n"
     ]
    },
    {
     "name": "stderr",
     "output_type": "stream",
     "text": [
      "\n",
      "     67/100         0G     0.6749      1.275      1.169          9        640: 100%|██████████| 2/2 [00:07<00:00,  3.81s/it]\n",
      "                 Class     Images  Instances      Box(P          R      mAP50  mAP50-95): 100%|██████████| 1/1 [00:02<00:00,  2.33s/it]"
     ]
    },
    {
     "name": "stdout",
     "output_type": "stream",
     "text": [
      "                   all         20         20      0.884      0.942      0.966      0.837\n",
      "\n",
      "      Epoch    GPU_mem   box_loss   cls_loss   dfl_loss  Instances       Size\n"
     ]
    },
    {
     "name": "stderr",
     "output_type": "stream",
     "text": [
      "\n",
      "     68/100         0G     0.5575     0.9396      1.017         18        640: 100%|██████████| 2/2 [00:07<00:00,  3.84s/it]\n",
      "                 Class     Images  Instances      Box(P          R      mAP50  mAP50-95): 100%|██████████| 1/1 [00:02<00:00,  2.34s/it]"
     ]
    },
    {
     "name": "stdout",
     "output_type": "stream",
     "text": [
      "                   all         20         20      0.902      0.983      0.987      0.849\n",
      "\n",
      "      Epoch    GPU_mem   box_loss   cls_loss   dfl_loss  Instances       Size\n"
     ]
    },
    {
     "name": "stderr",
     "output_type": "stream",
     "text": [
      "\n",
      "     69/100         0G     0.5963     0.9914      1.032         10        640: 100%|██████████| 2/2 [00:07<00:00,  3.82s/it]\n",
      "                 Class     Images  Instances      Box(P          R      mAP50  mAP50-95): 100%|██████████| 1/1 [00:02<00:00,  2.35s/it]"
     ]
    },
    {
     "name": "stdout",
     "output_type": "stream",
     "text": [
      "                   all         20         20      0.902      0.983      0.987      0.849\n",
      "\n",
      "      Epoch    GPU_mem   box_loss   cls_loss   dfl_loss  Instances       Size\n"
     ]
    },
    {
     "name": "stderr",
     "output_type": "stream",
     "text": [
      "\n",
      "     70/100         0G     0.6219      1.208      1.021          9        640: 100%|██████████| 2/2 [00:07<00:00,  3.84s/it]\n",
      "                 Class     Images  Instances      Box(P          R      mAP50  mAP50-95): 100%|██████████| 1/1 [00:02<00:00,  2.37s/it]"
     ]
    },
    {
     "name": "stdout",
     "output_type": "stream",
     "text": [
      "                   all         20         20      0.943      0.827      0.966      0.858\n",
      "\n",
      "      Epoch    GPU_mem   box_loss   cls_loss   dfl_loss  Instances       Size\n"
     ]
    },
    {
     "name": "stderr",
     "output_type": "stream",
     "text": [
      "\n",
      "     71/100         0G     0.6645      1.057      1.094         13        640: 100%|██████████| 2/2 [00:07<00:00,  3.84s/it]\n",
      "                 Class     Images  Instances      Box(P          R      mAP50  mAP50-95): 100%|██████████| 1/1 [00:02<00:00,  2.34s/it]"
     ]
    },
    {
     "name": "stdout",
     "output_type": "stream",
     "text": [
      "                   all         20         20      0.943      0.827      0.966      0.858\n",
      "\n",
      "      Epoch    GPU_mem   box_loss   cls_loss   dfl_loss  Instances       Size\n"
     ]
    },
    {
     "name": "stderr",
     "output_type": "stream",
     "text": [
      "\n",
      "     72/100         0G     0.6771      1.638      1.133          7        640: 100%|██████████| 2/2 [00:07<00:00,  3.85s/it]\n",
      "                 Class     Images  Instances      Box(P          R      mAP50  mAP50-95): 100%|██████████| 1/1 [00:02<00:00,  2.34s/it]"
     ]
    },
    {
     "name": "stdout",
     "output_type": "stream",
     "text": [
      "                   all         20         20      0.933      0.867      0.966      0.853\n",
      "\n",
      "      Epoch    GPU_mem   box_loss   cls_loss   dfl_loss  Instances       Size\n"
     ]
    },
    {
     "name": "stderr",
     "output_type": "stream",
     "text": [
      "\n",
      "     73/100         0G     0.6942      1.081      1.085         17        640: 100%|██████████| 2/2 [00:07<00:00,  3.85s/it]\n",
      "                 Class     Images  Instances      Box(P          R      mAP50  mAP50-95): 100%|██████████| 1/1 [00:02<00:00,  2.32s/it]"
     ]
    },
    {
     "name": "stdout",
     "output_type": "stream",
     "text": [
      "                   all         20         20      0.933      0.867      0.966      0.853\n",
      "\n",
      "      Epoch    GPU_mem   box_loss   cls_loss   dfl_loss  Instances       Size\n"
     ]
    },
    {
     "name": "stderr",
     "output_type": "stream",
     "text": [
      "\n",
      "     74/100         0G      0.654      1.073      1.111         10        640: 100%|██████████| 2/2 [00:07<00:00,  3.83s/it]\n",
      "                 Class     Images  Instances      Box(P          R      mAP50  mAP50-95): 100%|██████████| 1/1 [00:02<00:00,  2.34s/it]"
     ]
    },
    {
     "name": "stdout",
     "output_type": "stream",
     "text": [
      "                   all         20         20      0.958      0.867      0.966      0.858\n",
      "\n",
      "      Epoch    GPU_mem   box_loss   cls_loss   dfl_loss  Instances       Size\n"
     ]
    },
    {
     "name": "stderr",
     "output_type": "stream",
     "text": [
      "\n",
      "     75/100         0G     0.6254      1.179      1.141          6        640: 100%|██████████| 2/2 [00:07<00:00,  3.84s/it]\n",
      "                 Class     Images  Instances      Box(P          R      mAP50  mAP50-95): 100%|██████████| 1/1 [00:02<00:00,  2.36s/it]"
     ]
    },
    {
     "name": "stdout",
     "output_type": "stream",
     "text": [
      "                   all         20         20      0.958      0.867      0.966      0.858\n",
      "\n",
      "      Epoch    GPU_mem   box_loss   cls_loss   dfl_loss  Instances       Size\n"
     ]
    },
    {
     "name": "stderr",
     "output_type": "stream",
     "text": [
      "\n",
      "     76/100         0G     0.5326     0.9481      1.028         17        640: 100%|██████████| 2/2 [00:07<00:00,  3.84s/it]\n",
      "                 Class     Images  Instances      Box(P          R      mAP50  mAP50-95): 100%|██████████| 1/1 [00:02<00:00,  2.35s/it]"
     ]
    },
    {
     "name": "stdout",
     "output_type": "stream",
     "text": [
      "                   all         20         20      0.959      0.922      0.995      0.912\n",
      "\n",
      "      Epoch    GPU_mem   box_loss   cls_loss   dfl_loss  Instances       Size\n"
     ]
    },
    {
     "name": "stderr",
     "output_type": "stream",
     "text": [
      "\n",
      "     77/100         0G     0.6165       1.15      1.107         14        640: 100%|██████████| 2/2 [00:07<00:00,  3.83s/it]\n",
      "                 Class     Images  Instances      Box(P          R      mAP50  mAP50-95): 100%|██████████| 1/1 [00:02<00:00,  2.34s/it]"
     ]
    },
    {
     "name": "stdout",
     "output_type": "stream",
     "text": [
      "                   all         20         20      0.959      0.922      0.995      0.912\n",
      "\n",
      "      Epoch    GPU_mem   box_loss   cls_loss   dfl_loss  Instances       Size\n"
     ]
    },
    {
     "name": "stderr",
     "output_type": "stream",
     "text": [
      "\n",
      "     78/100         0G     0.6027      1.226      1.168          6        640: 100%|██████████| 2/2 [00:07<00:00,  3.81s/it]\n",
      "                 Class     Images  Instances      Box(P          R      mAP50  mAP50-95): 100%|██████████| 1/1 [00:02<00:00,  2.31s/it]"
     ]
    },
    {
     "name": "stdout",
     "output_type": "stream",
     "text": [
      "                   all         20         20      0.963      0.927      0.995      0.933\n",
      "\n",
      "      Epoch    GPU_mem   box_loss   cls_loss   dfl_loss  Instances       Size\n"
     ]
    },
    {
     "name": "stderr",
     "output_type": "stream",
     "text": [
      "\n",
      "     79/100         0G     0.6483       1.04       1.05         13        640: 100%|██████████| 2/2 [00:07<00:00,  3.82s/it]\n",
      "                 Class     Images  Instances      Box(P          R      mAP50  mAP50-95): 100%|██████████| 1/1 [00:02<00:00,  2.35s/it]"
     ]
    },
    {
     "name": "stdout",
     "output_type": "stream",
     "text": [
      "                   all         20         20      0.963      0.927      0.995      0.933\n",
      "\n",
      "      Epoch    GPU_mem   box_loss   cls_loss   dfl_loss  Instances       Size\n"
     ]
    },
    {
     "name": "stderr",
     "output_type": "stream",
     "text": [
      "\n",
      "     80/100         0G     0.6018      1.177     0.9992          7        640: 100%|██████████| 2/2 [00:07<00:00,  3.83s/it]\n",
      "                 Class     Images  Instances      Box(P          R      mAP50  mAP50-95): 100%|██████████| 1/1 [00:02<00:00,  2.38s/it]"
     ]
    },
    {
     "name": "stdout",
     "output_type": "stream",
     "text": [
      "                   all         20         20      0.977      0.933      0.995       0.94\n",
      "\n",
      "      Epoch    GPU_mem   box_loss   cls_loss   dfl_loss  Instances       Size\n"
     ]
    },
    {
     "name": "stderr",
     "output_type": "stream",
     "text": [
      "\n",
      "     81/100         0G     0.4482     0.8988     0.9604         16        640: 100%|██████████| 2/2 [00:07<00:00,  3.94s/it]\n",
      "                 Class     Images  Instances      Box(P          R      mAP50  mAP50-95): 100%|██████████| 1/1 [00:02<00:00,  2.61s/it]"
     ]
    },
    {
     "name": "stdout",
     "output_type": "stream",
     "text": [
      "                   all         20         20      0.977      0.933      0.995       0.94\n",
      "\n",
      "      Epoch    GPU_mem   box_loss   cls_loss   dfl_loss  Instances       Size\n"
     ]
    },
    {
     "name": "stderr",
     "output_type": "stream",
     "text": [
      "\n",
      "     82/100         0G     0.5925     0.9621      1.038          8        640: 100%|██████████| 2/2 [00:08<00:00,  4.43s/it]\n",
      "                 Class     Images  Instances      Box(P          R      mAP50  mAP50-95): 100%|██████████| 1/1 [00:02<00:00,  2.37s/it]"
     ]
    },
    {
     "name": "stdout",
     "output_type": "stream",
     "text": [
      "                   all         20         20      0.975      0.939      0.995      0.943\n",
      "\n",
      "      Epoch    GPU_mem   box_loss   cls_loss   dfl_loss  Instances       Size\n"
     ]
    },
    {
     "name": "stderr",
     "output_type": "stream",
     "text": [
      "\n",
      "     83/100         0G     0.6539      1.202      1.083         11        640: 100%|██████████| 2/2 [00:07<00:00,  3.86s/it]\n",
      "                 Class     Images  Instances      Box(P          R      mAP50  mAP50-95): 100%|██████████| 1/1 [00:02<00:00,  2.62s/it]"
     ]
    },
    {
     "name": "stdout",
     "output_type": "stream",
     "text": [
      "                   all         20         20      0.975      0.939      0.995      0.943\n",
      "\n",
      "      Epoch    GPU_mem   box_loss   cls_loss   dfl_loss  Instances       Size\n"
     ]
    },
    {
     "name": "stderr",
     "output_type": "stream",
     "text": [
      "\n",
      "     84/100         0G     0.5593      1.207      0.998          8        640: 100%|██████████| 2/2 [00:08<00:00,  4.40s/it]\n",
      "                 Class     Images  Instances      Box(P          R      mAP50  mAP50-95): 100%|██████████| 1/1 [00:02<00:00,  2.59s/it]"
     ]
    },
    {
     "name": "stdout",
     "output_type": "stream",
     "text": [
      "                   all         20         20       0.97       0.95      0.995      0.953\n",
      "\n",
      "      Epoch    GPU_mem   box_loss   cls_loss   dfl_loss  Instances       Size\n"
     ]
    },
    {
     "name": "stderr",
     "output_type": "stream",
     "text": [
      "\n",
      "     85/100         0G     0.6703      1.245      1.212          6        640: 100%|██████████| 2/2 [00:09<00:00,  4.66s/it]\n",
      "                 Class     Images  Instances      Box(P          R      mAP50  mAP50-95): 100%|██████████| 1/1 [00:02<00:00,  2.39s/it]"
     ]
    },
    {
     "name": "stdout",
     "output_type": "stream",
     "text": [
      "                   all         20         20       0.97       0.95      0.995      0.953\n",
      "\n",
      "      Epoch    GPU_mem   box_loss   cls_loss   dfl_loss  Instances       Size\n"
     ]
    },
    {
     "name": "stderr",
     "output_type": "stream",
     "text": [
      "\n",
      "     86/100         0G     0.5494      1.186      1.078          6        640: 100%|██████████| 2/2 [00:08<00:00,  4.14s/it]\n",
      "                 Class     Images  Instances      Box(P          R      mAP50  mAP50-95): 100%|██████████| 1/1 [00:02<00:00,  2.34s/it]"
     ]
    },
    {
     "name": "stdout",
     "output_type": "stream",
     "text": [
      "                   all         20         20      0.942      0.987      0.995       0.94\n"
     ]
    },
    {
     "name": "stderr",
     "output_type": "stream",
     "text": [
      "\n"
     ]
    },
    {
     "name": "stdout",
     "output_type": "stream",
     "text": [
      "\n",
      "      Epoch    GPU_mem   box_loss   cls_loss   dfl_loss  Instances       Size\n"
     ]
    },
    {
     "name": "stderr",
     "output_type": "stream",
     "text": [
      "     87/100         0G     0.5583      1.047     0.9884         14        640: 100%|██████████| 2/2 [00:07<00:00,  3.81s/it]\n",
      "                 Class     Images  Instances      Box(P          R      mAP50  mAP50-95): 100%|██████████| 1/1 [00:02<00:00,  2.37s/it]"
     ]
    },
    {
     "name": "stdout",
     "output_type": "stream",
     "text": [
      "                   all         20         20      0.942      0.987      0.995       0.94\n",
      "\n",
      "      Epoch    GPU_mem   box_loss   cls_loss   dfl_loss  Instances       Size\n"
     ]
    },
    {
     "name": "stderr",
     "output_type": "stream",
     "text": [
      "\n",
      "     88/100         0G     0.5376        1.1      1.034          7        640: 100%|██████████| 2/2 [00:07<00:00,  3.81s/it]\n",
      "                 Class     Images  Instances      Box(P          R      mAP50  mAP50-95): 100%|██████████| 1/1 [00:02<00:00,  2.36s/it]"
     ]
    },
    {
     "name": "stdout",
     "output_type": "stream",
     "text": [
      "                   all         20         20      0.941      0.986      0.995      0.951\n",
      "\n",
      "      Epoch    GPU_mem   box_loss   cls_loss   dfl_loss  Instances       Size\n"
     ]
    },
    {
     "name": "stderr",
     "output_type": "stream",
     "text": [
      "\n",
      "     89/100         0G     0.6224      1.136      1.025          9        640: 100%|██████████| 2/2 [00:07<00:00,  3.80s/it]\n",
      "                 Class     Images  Instances      Box(P          R      mAP50  mAP50-95): 100%|██████████| 1/1 [00:02<00:00,  2.36s/it]"
     ]
    },
    {
     "name": "stdout",
     "output_type": "stream",
     "text": [
      "                   all         20         20      0.941      0.986      0.995      0.951\n",
      "\n",
      "      Epoch    GPU_mem   box_loss   cls_loss   dfl_loss  Instances       Size\n"
     ]
    },
    {
     "name": "stderr",
     "output_type": "stream",
     "text": [
      "\n",
      "     90/100         0G     0.5503     0.9855     0.9798          9        640: 100%|██████████| 2/2 [00:07<00:00,  3.91s/it]\n",
      "                 Class     Images  Instances      Box(P          R      mAP50  mAP50-95): 100%|██████████| 1/1 [00:02<00:00,  2.36s/it]"
     ]
    },
    {
     "name": "stdout",
     "output_type": "stream",
     "text": [
      "                   all         20         20      0.944      0.985      0.995      0.947\n",
      "Closing dataloader mosaic\n",
      "\n",
      "      Epoch    GPU_mem   box_loss   cls_loss   dfl_loss  Instances       Size\n"
     ]
    },
    {
     "name": "stderr",
     "output_type": "stream",
     "text": [
      "\n",
      "     91/100         0G     0.4578      1.597      1.166          3        640: 100%|██████████| 2/2 [00:07<00:00,  3.80s/it]\n",
      "                 Class     Images  Instances      Box(P          R      mAP50  mAP50-95): 100%|██████████| 1/1 [00:02<00:00,  2.39s/it]"
     ]
    },
    {
     "name": "stdout",
     "output_type": "stream",
     "text": [
      "                   all         20         20      0.944      0.985      0.995      0.947\n",
      "\n",
      "      Epoch    GPU_mem   box_loss   cls_loss   dfl_loss  Instances       Size\n"
     ]
    },
    {
     "name": "stderr",
     "output_type": "stream",
     "text": [
      "\n",
      "     92/100         0G      0.418      1.449     0.9817          5        640: 100%|██████████| 2/2 [00:07<00:00,  3.95s/it]\n",
      "                 Class     Images  Instances      Box(P          R      mAP50  mAP50-95): 100%|██████████| 1/1 [00:02<00:00,  2.37s/it]"
     ]
    },
    {
     "name": "stdout",
     "output_type": "stream",
     "text": [
      "                   all         20         20      0.968       0.95      0.995      0.939\n",
      "\n",
      "      Epoch    GPU_mem   box_loss   cls_loss   dfl_loss  Instances       Size\n"
     ]
    },
    {
     "name": "stderr",
     "output_type": "stream",
     "text": [
      "\n",
      "     93/100         0G     0.4126      1.312      0.882          4        640: 100%|██████████| 2/2 [00:07<00:00,  3.84s/it]\n",
      "                 Class     Images  Instances      Box(P          R      mAP50  mAP50-95): 100%|██████████| 1/1 [00:02<00:00,  2.35s/it]"
     ]
    },
    {
     "name": "stdout",
     "output_type": "stream",
     "text": [
      "                   all         20         20      0.968       0.95      0.995      0.939\n",
      "\n",
      "      Epoch    GPU_mem   box_loss   cls_loss   dfl_loss  Instances       Size\n"
     ]
    },
    {
     "name": "stderr",
     "output_type": "stream",
     "text": [
      "\n",
      "     94/100         0G     0.5195      3.531     0.9879          1        640: 100%|██████████| 2/2 [00:07<00:00,  3.83s/it]\n",
      "                 Class     Images  Instances      Box(P          R      mAP50  mAP50-95): 100%|██████████| 1/1 [00:02<00:00,  2.37s/it]"
     ]
    },
    {
     "name": "stdout",
     "output_type": "stream",
     "text": [
      "                   all         20         20      0.976      0.936      0.995      0.944\n",
      "\n",
      "      Epoch    GPU_mem   box_loss   cls_loss   dfl_loss  Instances       Size\n"
     ]
    },
    {
     "name": "stderr",
     "output_type": "stream",
     "text": [
      "\n",
      "     95/100         0G     0.3715      2.071     0.9729          2        640: 100%|██████████| 2/2 [00:07<00:00,  3.81s/it]\n",
      "                 Class     Images  Instances      Box(P          R      mAP50  mAP50-95): 100%|██████████| 1/1 [00:02<00:00,  2.37s/it]"
     ]
    },
    {
     "name": "stdout",
     "output_type": "stream",
     "text": [
      "                   all         20         20      0.976      0.936      0.995      0.944\n",
      "\n",
      "      Epoch    GPU_mem   box_loss   cls_loss   dfl_loss  Instances       Size\n"
     ]
    },
    {
     "name": "stderr",
     "output_type": "stream",
     "text": [
      "\n",
      "     96/100         0G     0.4839      1.688      1.019          3        640: 100%|██████████| 2/2 [00:07<00:00,  3.83s/it]\n",
      "                 Class     Images  Instances      Box(P          R      mAP50  mAP50-95): 100%|██████████| 1/1 [00:02<00:00,  2.37s/it]"
     ]
    },
    {
     "name": "stdout",
     "output_type": "stream",
     "text": [
      "                   all         20         20      0.974      0.933      0.995      0.947\n",
      "\n",
      "      Epoch    GPU_mem   box_loss   cls_loss   dfl_loss  Instances       Size\n"
     ]
    },
    {
     "name": "stderr",
     "output_type": "stream",
     "text": [
      "\n",
      "     97/100         0G     0.4137      1.642       1.04          3        640: 100%|██████████| 2/2 [00:07<00:00,  3.81s/it]\n",
      "                 Class     Images  Instances      Box(P          R      mAP50  mAP50-95): 100%|██████████| 1/1 [00:02<00:00,  2.38s/it]"
     ]
    },
    {
     "name": "stdout",
     "output_type": "stream",
     "text": [
      "                   all         20         20      0.974      0.933      0.995      0.947\n",
      "\n",
      "      Epoch    GPU_mem   box_loss   cls_loss   dfl_loss  Instances       Size\n"
     ]
    },
    {
     "name": "stderr",
     "output_type": "stream",
     "text": [
      "\n",
      "     98/100         0G     0.3255      1.406      0.957          3        640: 100%|██████████| 2/2 [00:07<00:00,  3.83s/it]\n",
      "                 Class     Images  Instances      Box(P          R      mAP50  mAP50-95): 100%|██████████| 1/1 [00:02<00:00,  2.35s/it]"
     ]
    },
    {
     "name": "stdout",
     "output_type": "stream",
     "text": [
      "                   all         20         20      0.974      0.932      0.995      0.957\n",
      "\n",
      "      Epoch    GPU_mem   box_loss   cls_loss   dfl_loss  Instances       Size\n"
     ]
    },
    {
     "name": "stderr",
     "output_type": "stream",
     "text": [
      "\n",
      "     99/100         0G     0.4864      1.525      1.048          4        640: 100%|██████████| 2/2 [00:07<00:00,  3.81s/it]\n",
      "                 Class     Images  Instances      Box(P          R      mAP50  mAP50-95): 100%|██████████| 1/1 [00:02<00:00,  2.35s/it]"
     ]
    },
    {
     "name": "stdout",
     "output_type": "stream",
     "text": [
      "                   all         20         20      0.974      0.932      0.995      0.957\n",
      "\n",
      "      Epoch    GPU_mem   box_loss   cls_loss   dfl_loss  Instances       Size\n"
     ]
    },
    {
     "name": "stderr",
     "output_type": "stream",
     "text": [
      "\n",
      "    100/100         0G     0.3183      1.573     0.9491          3        640: 100%|██████████| 2/2 [00:07<00:00,  3.82s/it]\n",
      "                 Class     Images  Instances      Box(P          R      mAP50  mAP50-95): 100%|██████████| 1/1 [00:02<00:00,  2.33s/it]"
     ]
    },
    {
     "name": "stdout",
     "output_type": "stream",
     "text": [
      "                   all         20         20      0.973      0.932      0.995      0.958\n",
      "\n",
      "100 epochs completed in 0.285 hours.\n",
      "Optimizer stripped from runs/detect/train/weights/last.pt, 6.3MB\n"
     ]
    },
    {
     "name": "stderr",
     "output_type": "stream",
     "text": [
      "\n"
     ]
    },
    {
     "name": "stdout",
     "output_type": "stream",
     "text": [
      "Optimizer stripped from runs/detect/train/weights/best.pt, 6.3MB\n",
      "\n",
      "Validating runs/detect/train/weights/best.pt...\n",
      "Ultralytics 8.3.163 🚀 Python-3.9.13 torch-2.2.2 CPU (Apple M2)\n",
      "Model summary (fused): 72 layers, 3,006,428 parameters, 0 gradients, 8.1 GFLOPs\n"
     ]
    },
    {
     "name": "stderr",
     "output_type": "stream",
     "text": [
      "                 Class     Images  Instances      Box(P          R      mAP50  mAP50-95): 100%|██████████| 1/1 [00:02<00:00,  2.14s/it]\n"
     ]
    },
    {
     "name": "stdout",
     "output_type": "stream",
     "text": [
      "                   all         20         20      0.973      0.932      0.995      0.958\n",
      "             sea_horse          4          4      0.916          1      0.995      0.995\n",
      "            helicopter          3          3          1      0.728      0.995      0.912\n",
      "               leopard          4          8      0.989          1      0.995       0.98\n",
      "               pyramid          4          5      0.986          1      0.995      0.945\n",
      "Speed: 1.5ms preprocess, 101.3ms inference, 0.0ms loss, 2.0ms postprocess per image\n",
      "Results saved to \u001b[1mruns/detect/train\u001b[0m\n"
     ]
    },
    {
     "data": {
      "text/plain": [
       "ultralytics.utils.metrics.DetMetrics object with attributes:\n",
       "\n",
       "ap_class_index: array([0, 1, 2, 3])\n",
       "box: ultralytics.utils.metrics.Metric object\n",
       "confusion_matrix: <ultralytics.utils.metrics.ConfusionMatrix object at 0x7f84ca8b76a0>\n",
       "curves: ['Precision-Recall(B)', 'F1-Confidence(B)', 'Precision-Confidence(B)', 'Recall-Confidence(B)']\n",
       "curves_results: [[array([          0,    0.001001,    0.002002,    0.003003,    0.004004,    0.005005,    0.006006,    0.007007,    0.008008,    0.009009,     0.01001,    0.011011,    0.012012,    0.013013,    0.014014,    0.015015,    0.016016,    0.017017,    0.018018,    0.019019,     0.02002,    0.021021,    0.022022,    0.023023,\n",
       "          0.024024,    0.025025,    0.026026,    0.027027,    0.028028,    0.029029,     0.03003,    0.031031,    0.032032,    0.033033,    0.034034,    0.035035,    0.036036,    0.037037,    0.038038,    0.039039,     0.04004,    0.041041,    0.042042,    0.043043,    0.044044,    0.045045,    0.046046,    0.047047,\n",
       "          0.048048,    0.049049,     0.05005,    0.051051,    0.052052,    0.053053,    0.054054,    0.055055,    0.056056,    0.057057,    0.058058,    0.059059,     0.06006,    0.061061,    0.062062,    0.063063,    0.064064,    0.065065,    0.066066,    0.067067,    0.068068,    0.069069,     0.07007,    0.071071,\n",
       "          0.072072,    0.073073,    0.074074,    0.075075,    0.076076,    0.077077,    0.078078,    0.079079,     0.08008,    0.081081,    0.082082,    0.083083,    0.084084,    0.085085,    0.086086,    0.087087,    0.088088,    0.089089,     0.09009,    0.091091,    0.092092,    0.093093,    0.094094,    0.095095,\n",
       "          0.096096,    0.097097,    0.098098,    0.099099,      0.1001,      0.1011,      0.1021,      0.1031,      0.1041,     0.10511,     0.10611,     0.10711,     0.10811,     0.10911,     0.11011,     0.11111,     0.11211,     0.11311,     0.11411,     0.11512,     0.11612,     0.11712,     0.11812,     0.11912,\n",
       "           0.12012,     0.12112,     0.12212,     0.12312,     0.12412,     0.12513,     0.12613,     0.12713,     0.12813,     0.12913,     0.13013,     0.13113,     0.13213,     0.13313,     0.13413,     0.13514,     0.13614,     0.13714,     0.13814,     0.13914,     0.14014,     0.14114,     0.14214,     0.14314,\n",
       "           0.14414,     0.14515,     0.14615,     0.14715,     0.14815,     0.14915,     0.15015,     0.15115,     0.15215,     0.15315,     0.15415,     0.15516,     0.15616,     0.15716,     0.15816,     0.15916,     0.16016,     0.16116,     0.16216,     0.16316,     0.16416,     0.16517,     0.16617,     0.16717,\n",
       "           0.16817,     0.16917,     0.17017,     0.17117,     0.17217,     0.17317,     0.17417,     0.17518,     0.17618,     0.17718,     0.17818,     0.17918,     0.18018,     0.18118,     0.18218,     0.18318,     0.18418,     0.18519,     0.18619,     0.18719,     0.18819,     0.18919,     0.19019,     0.19119,\n",
       "           0.19219,     0.19319,     0.19419,      0.1952,      0.1962,      0.1972,      0.1982,      0.1992,      0.2002,      0.2012,      0.2022,      0.2032,      0.2042,     0.20521,     0.20621,     0.20721,     0.20821,     0.20921,     0.21021,     0.21121,     0.21221,     0.21321,     0.21421,     0.21522,\n",
       "           0.21622,     0.21722,     0.21822,     0.21922,     0.22022,     0.22122,     0.22222,     0.22322,     0.22422,     0.22523,     0.22623,     0.22723,     0.22823,     0.22923,     0.23023,     0.23123,     0.23223,     0.23323,     0.23423,     0.23524,     0.23624,     0.23724,     0.23824,     0.23924,\n",
       "           0.24024,     0.24124,     0.24224,     0.24324,     0.24424,     0.24525,     0.24625,     0.24725,     0.24825,     0.24925,     0.25025,     0.25125,     0.25225,     0.25325,     0.25425,     0.25526,     0.25626,     0.25726,     0.25826,     0.25926,     0.26026,     0.26126,     0.26226,     0.26326,\n",
       "           0.26426,     0.26527,     0.26627,     0.26727,     0.26827,     0.26927,     0.27027,     0.27127,     0.27227,     0.27327,     0.27427,     0.27528,     0.27628,     0.27728,     0.27828,     0.27928,     0.28028,     0.28128,     0.28228,     0.28328,     0.28428,     0.28529,     0.28629,     0.28729,\n",
       "           0.28829,     0.28929,     0.29029,     0.29129,     0.29229,     0.29329,     0.29429,      0.2953,      0.2963,      0.2973,      0.2983,      0.2993,      0.3003,      0.3013,      0.3023,      0.3033,      0.3043,     0.30531,     0.30631,     0.30731,     0.30831,     0.30931,     0.31031,     0.31131,\n",
       "           0.31231,     0.31331,     0.31431,     0.31532,     0.31632,     0.31732,     0.31832,     0.31932,     0.32032,     0.32132,     0.32232,     0.32332,     0.32432,     0.32533,     0.32633,     0.32733,     0.32833,     0.32933,     0.33033,     0.33133,     0.33233,     0.33333,     0.33433,     0.33534,\n",
       "           0.33634,     0.33734,     0.33834,     0.33934,     0.34034,     0.34134,     0.34234,     0.34334,     0.34434,     0.34535,     0.34635,     0.34735,     0.34835,     0.34935,     0.35035,     0.35135,     0.35235,     0.35335,     0.35435,     0.35536,     0.35636,     0.35736,     0.35836,     0.35936,\n",
       "           0.36036,     0.36136,     0.36236,     0.36336,     0.36436,     0.36537,     0.36637,     0.36737,     0.36837,     0.36937,     0.37037,     0.37137,     0.37237,     0.37337,     0.37437,     0.37538,     0.37638,     0.37738,     0.37838,     0.37938,     0.38038,     0.38138,     0.38238,     0.38338,\n",
       "           0.38438,     0.38539,     0.38639,     0.38739,     0.38839,     0.38939,     0.39039,     0.39139,     0.39239,     0.39339,     0.39439,      0.3954,      0.3964,      0.3974,      0.3984,      0.3994,      0.4004,      0.4014,      0.4024,      0.4034,      0.4044,     0.40541,     0.40641,     0.40741,\n",
       "           0.40841,     0.40941,     0.41041,     0.41141,     0.41241,     0.41341,     0.41441,     0.41542,     0.41642,     0.41742,     0.41842,     0.41942,     0.42042,     0.42142,     0.42242,     0.42342,     0.42442,     0.42543,     0.42643,     0.42743,     0.42843,     0.42943,     0.43043,     0.43143,\n",
       "           0.43243,     0.43343,     0.43443,     0.43544,     0.43644,     0.43744,     0.43844,     0.43944,     0.44044,     0.44144,     0.44244,     0.44344,     0.44444,     0.44545,     0.44645,     0.44745,     0.44845,     0.44945,     0.45045,     0.45145,     0.45245,     0.45345,     0.45445,     0.45546,\n",
       "           0.45646,     0.45746,     0.45846,     0.45946,     0.46046,     0.46146,     0.46246,     0.46346,     0.46446,     0.46547,     0.46647,     0.46747,     0.46847,     0.46947,     0.47047,     0.47147,     0.47247,     0.47347,     0.47447,     0.47548,     0.47648,     0.47748,     0.47848,     0.47948,\n",
       "           0.48048,     0.48148,     0.48248,     0.48348,     0.48448,     0.48549,     0.48649,     0.48749,     0.48849,     0.48949,     0.49049,     0.49149,     0.49249,     0.49349,     0.49449,      0.4955,      0.4965,      0.4975,      0.4985,      0.4995,      0.5005,      0.5015,      0.5025,      0.5035,\n",
       "            0.5045,     0.50551,     0.50651,     0.50751,     0.50851,     0.50951,     0.51051,     0.51151,     0.51251,     0.51351,     0.51451,     0.51552,     0.51652,     0.51752,     0.51852,     0.51952,     0.52052,     0.52152,     0.52252,     0.52352,     0.52452,     0.52553,     0.52653,     0.52753,\n",
       "           0.52853,     0.52953,     0.53053,     0.53153,     0.53253,     0.53353,     0.53453,     0.53554,     0.53654,     0.53754,     0.53854,     0.53954,     0.54054,     0.54154,     0.54254,     0.54354,     0.54454,     0.54555,     0.54655,     0.54755,     0.54855,     0.54955,     0.55055,     0.55155,\n",
       "           0.55255,     0.55355,     0.55455,     0.55556,     0.55656,     0.55756,     0.55856,     0.55956,     0.56056,     0.56156,     0.56256,     0.56356,     0.56456,     0.56557,     0.56657,     0.56757,     0.56857,     0.56957,     0.57057,     0.57157,     0.57257,     0.57357,     0.57457,     0.57558,\n",
       "           0.57658,     0.57758,     0.57858,     0.57958,     0.58058,     0.58158,     0.58258,     0.58358,     0.58458,     0.58559,     0.58659,     0.58759,     0.58859,     0.58959,     0.59059,     0.59159,     0.59259,     0.59359,     0.59459,      0.5956,      0.5966,      0.5976,      0.5986,      0.5996,\n",
       "            0.6006,      0.6016,      0.6026,      0.6036,      0.6046,     0.60561,     0.60661,     0.60761,     0.60861,     0.60961,     0.61061,     0.61161,     0.61261,     0.61361,     0.61461,     0.61562,     0.61662,     0.61762,     0.61862,     0.61962,     0.62062,     0.62162,     0.62262,     0.62362,\n",
       "           0.62462,     0.62563,     0.62663,     0.62763,     0.62863,     0.62963,     0.63063,     0.63163,     0.63263,     0.63363,     0.63463,     0.63564,     0.63664,     0.63764,     0.63864,     0.63964,     0.64064,     0.64164,     0.64264,     0.64364,     0.64464,     0.64565,     0.64665,     0.64765,\n",
       "           0.64865,     0.64965,     0.65065,     0.65165,     0.65265,     0.65365,     0.65465,     0.65566,     0.65666,     0.65766,     0.65866,     0.65966,     0.66066,     0.66166,     0.66266,     0.66366,     0.66466,     0.66567,     0.66667,     0.66767,     0.66867,     0.66967,     0.67067,     0.67167,\n",
       "           0.67267,     0.67367,     0.67467,     0.67568,     0.67668,     0.67768,     0.67868,     0.67968,     0.68068,     0.68168,     0.68268,     0.68368,     0.68468,     0.68569,     0.68669,     0.68769,     0.68869,     0.68969,     0.69069,     0.69169,     0.69269,     0.69369,     0.69469,      0.6957,\n",
       "            0.6967,      0.6977,      0.6987,      0.6997,      0.7007,      0.7017,      0.7027,      0.7037,      0.7047,     0.70571,     0.70671,     0.70771,     0.70871,     0.70971,     0.71071,     0.71171,     0.71271,     0.71371,     0.71471,     0.71572,     0.71672,     0.71772,     0.71872,     0.71972,\n",
       "           0.72072,     0.72172,     0.72272,     0.72372,     0.72472,     0.72573,     0.72673,     0.72773,     0.72873,     0.72973,     0.73073,     0.73173,     0.73273,     0.73373,     0.73473,     0.73574,     0.73674,     0.73774,     0.73874,     0.73974,     0.74074,     0.74174,     0.74274,     0.74374,\n",
       "           0.74474,     0.74575,     0.74675,     0.74775,     0.74875,     0.74975,     0.75075,     0.75175,     0.75275,     0.75375,     0.75475,     0.75576,     0.75676,     0.75776,     0.75876,     0.75976,     0.76076,     0.76176,     0.76276,     0.76376,     0.76476,     0.76577,     0.76677,     0.76777,\n",
       "           0.76877,     0.76977,     0.77077,     0.77177,     0.77277,     0.77377,     0.77477,     0.77578,     0.77678,     0.77778,     0.77878,     0.77978,     0.78078,     0.78178,     0.78278,     0.78378,     0.78478,     0.78579,     0.78679,     0.78779,     0.78879,     0.78979,     0.79079,     0.79179,\n",
       "           0.79279,     0.79379,     0.79479,      0.7958,      0.7968,      0.7978,      0.7988,      0.7998,      0.8008,      0.8018,      0.8028,      0.8038,      0.8048,     0.80581,     0.80681,     0.80781,     0.80881,     0.80981,     0.81081,     0.81181,     0.81281,     0.81381,     0.81481,     0.81582,\n",
       "           0.81682,     0.81782,     0.81882,     0.81982,     0.82082,     0.82182,     0.82282,     0.82382,     0.82482,     0.82583,     0.82683,     0.82783,     0.82883,     0.82983,     0.83083,     0.83183,     0.83283,     0.83383,     0.83483,     0.83584,     0.83684,     0.83784,     0.83884,     0.83984,\n",
       "           0.84084,     0.84184,     0.84284,     0.84384,     0.84484,     0.84585,     0.84685,     0.84785,     0.84885,     0.84985,     0.85085,     0.85185,     0.85285,     0.85385,     0.85485,     0.85586,     0.85686,     0.85786,     0.85886,     0.85986,     0.86086,     0.86186,     0.86286,     0.86386,\n",
       "           0.86486,     0.86587,     0.86687,     0.86787,     0.86887,     0.86987,     0.87087,     0.87187,     0.87287,     0.87387,     0.87487,     0.87588,     0.87688,     0.87788,     0.87888,     0.87988,     0.88088,     0.88188,     0.88288,     0.88388,     0.88488,     0.88589,     0.88689,     0.88789,\n",
       "           0.88889,     0.88989,     0.89089,     0.89189,     0.89289,     0.89389,     0.89489,      0.8959,      0.8969,      0.8979,      0.8989,      0.8999,      0.9009,      0.9019,      0.9029,      0.9039,      0.9049,     0.90591,     0.90691,     0.90791,     0.90891,     0.90991,     0.91091,     0.91191,\n",
       "           0.91291,     0.91391,     0.91491,     0.91592,     0.91692,     0.91792,     0.91892,     0.91992,     0.92092,     0.92192,     0.92292,     0.92392,     0.92492,     0.92593,     0.92693,     0.92793,     0.92893,     0.92993,     0.93093,     0.93193,     0.93293,     0.93393,     0.93493,     0.93594,\n",
       "           0.93694,     0.93794,     0.93894,     0.93994,     0.94094,     0.94194,     0.94294,     0.94394,     0.94494,     0.94595,     0.94695,     0.94795,     0.94895,     0.94995,     0.95095,     0.95195,     0.95295,     0.95395,     0.95495,     0.95596,     0.95696,     0.95796,     0.95896,     0.95996,\n",
       "           0.96096,     0.96196,     0.96296,     0.96396,     0.96496,     0.96597,     0.96697,     0.96797,     0.96897,     0.96997,     0.97097,     0.97197,     0.97297,     0.97397,     0.97497,     0.97598,     0.97698,     0.97798,     0.97898,     0.97998,     0.98098,     0.98198,     0.98298,     0.98398,\n",
       "           0.98498,     0.98599,     0.98699,     0.98799,     0.98899,     0.98999,     0.99099,     0.99199,     0.99299,     0.99399,     0.99499,       0.996,       0.997,       0.998,       0.999,           1]), array([[          1,           1,           1, ...,           1,           1,           0],\n",
       "       [          1,           1,           1, ...,           1,           1,           0],\n",
       "       [          1,           1,           1, ...,           1,           1,           0],\n",
       "       [          1,           1,           1, ...,           1,           1,           0]]), 'Recall', 'Precision'], [array([          0,    0.001001,    0.002002,    0.003003,    0.004004,    0.005005,    0.006006,    0.007007,    0.008008,    0.009009,     0.01001,    0.011011,    0.012012,    0.013013,    0.014014,    0.015015,    0.016016,    0.017017,    0.018018,    0.019019,     0.02002,    0.021021,    0.022022,    0.023023,\n",
       "          0.024024,    0.025025,    0.026026,    0.027027,    0.028028,    0.029029,     0.03003,    0.031031,    0.032032,    0.033033,    0.034034,    0.035035,    0.036036,    0.037037,    0.038038,    0.039039,     0.04004,    0.041041,    0.042042,    0.043043,    0.044044,    0.045045,    0.046046,    0.047047,\n",
       "          0.048048,    0.049049,     0.05005,    0.051051,    0.052052,    0.053053,    0.054054,    0.055055,    0.056056,    0.057057,    0.058058,    0.059059,     0.06006,    0.061061,    0.062062,    0.063063,    0.064064,    0.065065,    0.066066,    0.067067,    0.068068,    0.069069,     0.07007,    0.071071,\n",
       "          0.072072,    0.073073,    0.074074,    0.075075,    0.076076,    0.077077,    0.078078,    0.079079,     0.08008,    0.081081,    0.082082,    0.083083,    0.084084,    0.085085,    0.086086,    0.087087,    0.088088,    0.089089,     0.09009,    0.091091,    0.092092,    0.093093,    0.094094,    0.095095,\n",
       "          0.096096,    0.097097,    0.098098,    0.099099,      0.1001,      0.1011,      0.1021,      0.1031,      0.1041,     0.10511,     0.10611,     0.10711,     0.10811,     0.10911,     0.11011,     0.11111,     0.11211,     0.11311,     0.11411,     0.11512,     0.11612,     0.11712,     0.11812,     0.11912,\n",
       "           0.12012,     0.12112,     0.12212,     0.12312,     0.12412,     0.12513,     0.12613,     0.12713,     0.12813,     0.12913,     0.13013,     0.13113,     0.13213,     0.13313,     0.13413,     0.13514,     0.13614,     0.13714,     0.13814,     0.13914,     0.14014,     0.14114,     0.14214,     0.14314,\n",
       "           0.14414,     0.14515,     0.14615,     0.14715,     0.14815,     0.14915,     0.15015,     0.15115,     0.15215,     0.15315,     0.15415,     0.15516,     0.15616,     0.15716,     0.15816,     0.15916,     0.16016,     0.16116,     0.16216,     0.16316,     0.16416,     0.16517,     0.16617,     0.16717,\n",
       "           0.16817,     0.16917,     0.17017,     0.17117,     0.17217,     0.17317,     0.17417,     0.17518,     0.17618,     0.17718,     0.17818,     0.17918,     0.18018,     0.18118,     0.18218,     0.18318,     0.18418,     0.18519,     0.18619,     0.18719,     0.18819,     0.18919,     0.19019,     0.19119,\n",
       "           0.19219,     0.19319,     0.19419,      0.1952,      0.1962,      0.1972,      0.1982,      0.1992,      0.2002,      0.2012,      0.2022,      0.2032,      0.2042,     0.20521,     0.20621,     0.20721,     0.20821,     0.20921,     0.21021,     0.21121,     0.21221,     0.21321,     0.21421,     0.21522,\n",
       "           0.21622,     0.21722,     0.21822,     0.21922,     0.22022,     0.22122,     0.22222,     0.22322,     0.22422,     0.22523,     0.22623,     0.22723,     0.22823,     0.22923,     0.23023,     0.23123,     0.23223,     0.23323,     0.23423,     0.23524,     0.23624,     0.23724,     0.23824,     0.23924,\n",
       "           0.24024,     0.24124,     0.24224,     0.24324,     0.24424,     0.24525,     0.24625,     0.24725,     0.24825,     0.24925,     0.25025,     0.25125,     0.25225,     0.25325,     0.25425,     0.25526,     0.25626,     0.25726,     0.25826,     0.25926,     0.26026,     0.26126,     0.26226,     0.26326,\n",
       "           0.26426,     0.26527,     0.26627,     0.26727,     0.26827,     0.26927,     0.27027,     0.27127,     0.27227,     0.27327,     0.27427,     0.27528,     0.27628,     0.27728,     0.27828,     0.27928,     0.28028,     0.28128,     0.28228,     0.28328,     0.28428,     0.28529,     0.28629,     0.28729,\n",
       "           0.28829,     0.28929,     0.29029,     0.29129,     0.29229,     0.29329,     0.29429,      0.2953,      0.2963,      0.2973,      0.2983,      0.2993,      0.3003,      0.3013,      0.3023,      0.3033,      0.3043,     0.30531,     0.30631,     0.30731,     0.30831,     0.30931,     0.31031,     0.31131,\n",
       "           0.31231,     0.31331,     0.31431,     0.31532,     0.31632,     0.31732,     0.31832,     0.31932,     0.32032,     0.32132,     0.32232,     0.32332,     0.32432,     0.32533,     0.32633,     0.32733,     0.32833,     0.32933,     0.33033,     0.33133,     0.33233,     0.33333,     0.33433,     0.33534,\n",
       "           0.33634,     0.33734,     0.33834,     0.33934,     0.34034,     0.34134,     0.34234,     0.34334,     0.34434,     0.34535,     0.34635,     0.34735,     0.34835,     0.34935,     0.35035,     0.35135,     0.35235,     0.35335,     0.35435,     0.35536,     0.35636,     0.35736,     0.35836,     0.35936,\n",
       "           0.36036,     0.36136,     0.36236,     0.36336,     0.36436,     0.36537,     0.36637,     0.36737,     0.36837,     0.36937,     0.37037,     0.37137,     0.37237,     0.37337,     0.37437,     0.37538,     0.37638,     0.37738,     0.37838,     0.37938,     0.38038,     0.38138,     0.38238,     0.38338,\n",
       "           0.38438,     0.38539,     0.38639,     0.38739,     0.38839,     0.38939,     0.39039,     0.39139,     0.39239,     0.39339,     0.39439,      0.3954,      0.3964,      0.3974,      0.3984,      0.3994,      0.4004,      0.4014,      0.4024,      0.4034,      0.4044,     0.40541,     0.40641,     0.40741,\n",
       "           0.40841,     0.40941,     0.41041,     0.41141,     0.41241,     0.41341,     0.41441,     0.41542,     0.41642,     0.41742,     0.41842,     0.41942,     0.42042,     0.42142,     0.42242,     0.42342,     0.42442,     0.42543,     0.42643,     0.42743,     0.42843,     0.42943,     0.43043,     0.43143,\n",
       "           0.43243,     0.43343,     0.43443,     0.43544,     0.43644,     0.43744,     0.43844,     0.43944,     0.44044,     0.44144,     0.44244,     0.44344,     0.44444,     0.44545,     0.44645,     0.44745,     0.44845,     0.44945,     0.45045,     0.45145,     0.45245,     0.45345,     0.45445,     0.45546,\n",
       "           0.45646,     0.45746,     0.45846,     0.45946,     0.46046,     0.46146,     0.46246,     0.46346,     0.46446,     0.46547,     0.46647,     0.46747,     0.46847,     0.46947,     0.47047,     0.47147,     0.47247,     0.47347,     0.47447,     0.47548,     0.47648,     0.47748,     0.47848,     0.47948,\n",
       "           0.48048,     0.48148,     0.48248,     0.48348,     0.48448,     0.48549,     0.48649,     0.48749,     0.48849,     0.48949,     0.49049,     0.49149,     0.49249,     0.49349,     0.49449,      0.4955,      0.4965,      0.4975,      0.4985,      0.4995,      0.5005,      0.5015,      0.5025,      0.5035,\n",
       "            0.5045,     0.50551,     0.50651,     0.50751,     0.50851,     0.50951,     0.51051,     0.51151,     0.51251,     0.51351,     0.51451,     0.51552,     0.51652,     0.51752,     0.51852,     0.51952,     0.52052,     0.52152,     0.52252,     0.52352,     0.52452,     0.52553,     0.52653,     0.52753,\n",
       "           0.52853,     0.52953,     0.53053,     0.53153,     0.53253,     0.53353,     0.53453,     0.53554,     0.53654,     0.53754,     0.53854,     0.53954,     0.54054,     0.54154,     0.54254,     0.54354,     0.54454,     0.54555,     0.54655,     0.54755,     0.54855,     0.54955,     0.55055,     0.55155,\n",
       "           0.55255,     0.55355,     0.55455,     0.55556,     0.55656,     0.55756,     0.55856,     0.55956,     0.56056,     0.56156,     0.56256,     0.56356,     0.56456,     0.56557,     0.56657,     0.56757,     0.56857,     0.56957,     0.57057,     0.57157,     0.57257,     0.57357,     0.57457,     0.57558,\n",
       "           0.57658,     0.57758,     0.57858,     0.57958,     0.58058,     0.58158,     0.58258,     0.58358,     0.58458,     0.58559,     0.58659,     0.58759,     0.58859,     0.58959,     0.59059,     0.59159,     0.59259,     0.59359,     0.59459,      0.5956,      0.5966,      0.5976,      0.5986,      0.5996,\n",
       "            0.6006,      0.6016,      0.6026,      0.6036,      0.6046,     0.60561,     0.60661,     0.60761,     0.60861,     0.60961,     0.61061,     0.61161,     0.61261,     0.61361,     0.61461,     0.61562,     0.61662,     0.61762,     0.61862,     0.61962,     0.62062,     0.62162,     0.62262,     0.62362,\n",
       "           0.62462,     0.62563,     0.62663,     0.62763,     0.62863,     0.62963,     0.63063,     0.63163,     0.63263,     0.63363,     0.63463,     0.63564,     0.63664,     0.63764,     0.63864,     0.63964,     0.64064,     0.64164,     0.64264,     0.64364,     0.64464,     0.64565,     0.64665,     0.64765,\n",
       "           0.64865,     0.64965,     0.65065,     0.65165,     0.65265,     0.65365,     0.65465,     0.65566,     0.65666,     0.65766,     0.65866,     0.65966,     0.66066,     0.66166,     0.66266,     0.66366,     0.66466,     0.66567,     0.66667,     0.66767,     0.66867,     0.66967,     0.67067,     0.67167,\n",
       "           0.67267,     0.67367,     0.67467,     0.67568,     0.67668,     0.67768,     0.67868,     0.67968,     0.68068,     0.68168,     0.68268,     0.68368,     0.68468,     0.68569,     0.68669,     0.68769,     0.68869,     0.68969,     0.69069,     0.69169,     0.69269,     0.69369,     0.69469,      0.6957,\n",
       "            0.6967,      0.6977,      0.6987,      0.6997,      0.7007,      0.7017,      0.7027,      0.7037,      0.7047,     0.70571,     0.70671,     0.70771,     0.70871,     0.70971,     0.71071,     0.71171,     0.71271,     0.71371,     0.71471,     0.71572,     0.71672,     0.71772,     0.71872,     0.71972,\n",
       "           0.72072,     0.72172,     0.72272,     0.72372,     0.72472,     0.72573,     0.72673,     0.72773,     0.72873,     0.72973,     0.73073,     0.73173,     0.73273,     0.73373,     0.73473,     0.73574,     0.73674,     0.73774,     0.73874,     0.73974,     0.74074,     0.74174,     0.74274,     0.74374,\n",
       "           0.74474,     0.74575,     0.74675,     0.74775,     0.74875,     0.74975,     0.75075,     0.75175,     0.75275,     0.75375,     0.75475,     0.75576,     0.75676,     0.75776,     0.75876,     0.75976,     0.76076,     0.76176,     0.76276,     0.76376,     0.76476,     0.76577,     0.76677,     0.76777,\n",
       "           0.76877,     0.76977,     0.77077,     0.77177,     0.77277,     0.77377,     0.77477,     0.77578,     0.77678,     0.77778,     0.77878,     0.77978,     0.78078,     0.78178,     0.78278,     0.78378,     0.78478,     0.78579,     0.78679,     0.78779,     0.78879,     0.78979,     0.79079,     0.79179,\n",
       "           0.79279,     0.79379,     0.79479,      0.7958,      0.7968,      0.7978,      0.7988,      0.7998,      0.8008,      0.8018,      0.8028,      0.8038,      0.8048,     0.80581,     0.80681,     0.80781,     0.80881,     0.80981,     0.81081,     0.81181,     0.81281,     0.81381,     0.81481,     0.81582,\n",
       "           0.81682,     0.81782,     0.81882,     0.81982,     0.82082,     0.82182,     0.82282,     0.82382,     0.82482,     0.82583,     0.82683,     0.82783,     0.82883,     0.82983,     0.83083,     0.83183,     0.83283,     0.83383,     0.83483,     0.83584,     0.83684,     0.83784,     0.83884,     0.83984,\n",
       "           0.84084,     0.84184,     0.84284,     0.84384,     0.84484,     0.84585,     0.84685,     0.84785,     0.84885,     0.84985,     0.85085,     0.85185,     0.85285,     0.85385,     0.85485,     0.85586,     0.85686,     0.85786,     0.85886,     0.85986,     0.86086,     0.86186,     0.86286,     0.86386,\n",
       "           0.86486,     0.86587,     0.86687,     0.86787,     0.86887,     0.86987,     0.87087,     0.87187,     0.87287,     0.87387,     0.87487,     0.87588,     0.87688,     0.87788,     0.87888,     0.87988,     0.88088,     0.88188,     0.88288,     0.88388,     0.88488,     0.88589,     0.88689,     0.88789,\n",
       "           0.88889,     0.88989,     0.89089,     0.89189,     0.89289,     0.89389,     0.89489,      0.8959,      0.8969,      0.8979,      0.8989,      0.8999,      0.9009,      0.9019,      0.9029,      0.9039,      0.9049,     0.90591,     0.90691,     0.90791,     0.90891,     0.90991,     0.91091,     0.91191,\n",
       "           0.91291,     0.91391,     0.91491,     0.91592,     0.91692,     0.91792,     0.91892,     0.91992,     0.92092,     0.92192,     0.92292,     0.92392,     0.92492,     0.92593,     0.92693,     0.92793,     0.92893,     0.92993,     0.93093,     0.93193,     0.93293,     0.93393,     0.93493,     0.93594,\n",
       "           0.93694,     0.93794,     0.93894,     0.93994,     0.94094,     0.94194,     0.94294,     0.94394,     0.94494,     0.94595,     0.94695,     0.94795,     0.94895,     0.94995,     0.95095,     0.95195,     0.95295,     0.95395,     0.95495,     0.95596,     0.95696,     0.95796,     0.95896,     0.95996,\n",
       "           0.96096,     0.96196,     0.96296,     0.96396,     0.96496,     0.96597,     0.96697,     0.96797,     0.96897,     0.96997,     0.97097,     0.97197,     0.97297,     0.97397,     0.97497,     0.97598,     0.97698,     0.97798,     0.97898,     0.97998,     0.98098,     0.98198,     0.98298,     0.98398,\n",
       "           0.98498,     0.98599,     0.98699,     0.98799,     0.98899,     0.98999,     0.99099,     0.99199,     0.99299,     0.99399,     0.99499,       0.996,       0.997,       0.998,       0.999,           1]), array([[  0.0034115,   0.0034115,   0.0034115, ...,           0,           0,           0],\n",
       "       [  0.0075282,   0.0075282,   0.0075282, ...,           0,           0,           0],\n",
       "       [  0.0090652,   0.0090652,   0.0090652, ...,           0,           0,           0],\n",
       "       [  0.0089847,   0.0089847,   0.0089847, ...,           0,           0,           0]]), 'Confidence', 'F1'], [array([          0,    0.001001,    0.002002,    0.003003,    0.004004,    0.005005,    0.006006,    0.007007,    0.008008,    0.009009,     0.01001,    0.011011,    0.012012,    0.013013,    0.014014,    0.015015,    0.016016,    0.017017,    0.018018,    0.019019,     0.02002,    0.021021,    0.022022,    0.023023,\n",
       "          0.024024,    0.025025,    0.026026,    0.027027,    0.028028,    0.029029,     0.03003,    0.031031,    0.032032,    0.033033,    0.034034,    0.035035,    0.036036,    0.037037,    0.038038,    0.039039,     0.04004,    0.041041,    0.042042,    0.043043,    0.044044,    0.045045,    0.046046,    0.047047,\n",
       "          0.048048,    0.049049,     0.05005,    0.051051,    0.052052,    0.053053,    0.054054,    0.055055,    0.056056,    0.057057,    0.058058,    0.059059,     0.06006,    0.061061,    0.062062,    0.063063,    0.064064,    0.065065,    0.066066,    0.067067,    0.068068,    0.069069,     0.07007,    0.071071,\n",
       "          0.072072,    0.073073,    0.074074,    0.075075,    0.076076,    0.077077,    0.078078,    0.079079,     0.08008,    0.081081,    0.082082,    0.083083,    0.084084,    0.085085,    0.086086,    0.087087,    0.088088,    0.089089,     0.09009,    0.091091,    0.092092,    0.093093,    0.094094,    0.095095,\n",
       "          0.096096,    0.097097,    0.098098,    0.099099,      0.1001,      0.1011,      0.1021,      0.1031,      0.1041,     0.10511,     0.10611,     0.10711,     0.10811,     0.10911,     0.11011,     0.11111,     0.11211,     0.11311,     0.11411,     0.11512,     0.11612,     0.11712,     0.11812,     0.11912,\n",
       "           0.12012,     0.12112,     0.12212,     0.12312,     0.12412,     0.12513,     0.12613,     0.12713,     0.12813,     0.12913,     0.13013,     0.13113,     0.13213,     0.13313,     0.13413,     0.13514,     0.13614,     0.13714,     0.13814,     0.13914,     0.14014,     0.14114,     0.14214,     0.14314,\n",
       "           0.14414,     0.14515,     0.14615,     0.14715,     0.14815,     0.14915,     0.15015,     0.15115,     0.15215,     0.15315,     0.15415,     0.15516,     0.15616,     0.15716,     0.15816,     0.15916,     0.16016,     0.16116,     0.16216,     0.16316,     0.16416,     0.16517,     0.16617,     0.16717,\n",
       "           0.16817,     0.16917,     0.17017,     0.17117,     0.17217,     0.17317,     0.17417,     0.17518,     0.17618,     0.17718,     0.17818,     0.17918,     0.18018,     0.18118,     0.18218,     0.18318,     0.18418,     0.18519,     0.18619,     0.18719,     0.18819,     0.18919,     0.19019,     0.19119,\n",
       "           0.19219,     0.19319,     0.19419,      0.1952,      0.1962,      0.1972,      0.1982,      0.1992,      0.2002,      0.2012,      0.2022,      0.2032,      0.2042,     0.20521,     0.20621,     0.20721,     0.20821,     0.20921,     0.21021,     0.21121,     0.21221,     0.21321,     0.21421,     0.21522,\n",
       "           0.21622,     0.21722,     0.21822,     0.21922,     0.22022,     0.22122,     0.22222,     0.22322,     0.22422,     0.22523,     0.22623,     0.22723,     0.22823,     0.22923,     0.23023,     0.23123,     0.23223,     0.23323,     0.23423,     0.23524,     0.23624,     0.23724,     0.23824,     0.23924,\n",
       "           0.24024,     0.24124,     0.24224,     0.24324,     0.24424,     0.24525,     0.24625,     0.24725,     0.24825,     0.24925,     0.25025,     0.25125,     0.25225,     0.25325,     0.25425,     0.25526,     0.25626,     0.25726,     0.25826,     0.25926,     0.26026,     0.26126,     0.26226,     0.26326,\n",
       "           0.26426,     0.26527,     0.26627,     0.26727,     0.26827,     0.26927,     0.27027,     0.27127,     0.27227,     0.27327,     0.27427,     0.27528,     0.27628,     0.27728,     0.27828,     0.27928,     0.28028,     0.28128,     0.28228,     0.28328,     0.28428,     0.28529,     0.28629,     0.28729,\n",
       "           0.28829,     0.28929,     0.29029,     0.29129,     0.29229,     0.29329,     0.29429,      0.2953,      0.2963,      0.2973,      0.2983,      0.2993,      0.3003,      0.3013,      0.3023,      0.3033,      0.3043,     0.30531,     0.30631,     0.30731,     0.30831,     0.30931,     0.31031,     0.31131,\n",
       "           0.31231,     0.31331,     0.31431,     0.31532,     0.31632,     0.31732,     0.31832,     0.31932,     0.32032,     0.32132,     0.32232,     0.32332,     0.32432,     0.32533,     0.32633,     0.32733,     0.32833,     0.32933,     0.33033,     0.33133,     0.33233,     0.33333,     0.33433,     0.33534,\n",
       "           0.33634,     0.33734,     0.33834,     0.33934,     0.34034,     0.34134,     0.34234,     0.34334,     0.34434,     0.34535,     0.34635,     0.34735,     0.34835,     0.34935,     0.35035,     0.35135,     0.35235,     0.35335,     0.35435,     0.35536,     0.35636,     0.35736,     0.35836,     0.35936,\n",
       "           0.36036,     0.36136,     0.36236,     0.36336,     0.36436,     0.36537,     0.36637,     0.36737,     0.36837,     0.36937,     0.37037,     0.37137,     0.37237,     0.37337,     0.37437,     0.37538,     0.37638,     0.37738,     0.37838,     0.37938,     0.38038,     0.38138,     0.38238,     0.38338,\n",
       "           0.38438,     0.38539,     0.38639,     0.38739,     0.38839,     0.38939,     0.39039,     0.39139,     0.39239,     0.39339,     0.39439,      0.3954,      0.3964,      0.3974,      0.3984,      0.3994,      0.4004,      0.4014,      0.4024,      0.4034,      0.4044,     0.40541,     0.40641,     0.40741,\n",
       "           0.40841,     0.40941,     0.41041,     0.41141,     0.41241,     0.41341,     0.41441,     0.41542,     0.41642,     0.41742,     0.41842,     0.41942,     0.42042,     0.42142,     0.42242,     0.42342,     0.42442,     0.42543,     0.42643,     0.42743,     0.42843,     0.42943,     0.43043,     0.43143,\n",
       "           0.43243,     0.43343,     0.43443,     0.43544,     0.43644,     0.43744,     0.43844,     0.43944,     0.44044,     0.44144,     0.44244,     0.44344,     0.44444,     0.44545,     0.44645,     0.44745,     0.44845,     0.44945,     0.45045,     0.45145,     0.45245,     0.45345,     0.45445,     0.45546,\n",
       "           0.45646,     0.45746,     0.45846,     0.45946,     0.46046,     0.46146,     0.46246,     0.46346,     0.46446,     0.46547,     0.46647,     0.46747,     0.46847,     0.46947,     0.47047,     0.47147,     0.47247,     0.47347,     0.47447,     0.47548,     0.47648,     0.47748,     0.47848,     0.47948,\n",
       "           0.48048,     0.48148,     0.48248,     0.48348,     0.48448,     0.48549,     0.48649,     0.48749,     0.48849,     0.48949,     0.49049,     0.49149,     0.49249,     0.49349,     0.49449,      0.4955,      0.4965,      0.4975,      0.4985,      0.4995,      0.5005,      0.5015,      0.5025,      0.5035,\n",
       "            0.5045,     0.50551,     0.50651,     0.50751,     0.50851,     0.50951,     0.51051,     0.51151,     0.51251,     0.51351,     0.51451,     0.51552,     0.51652,     0.51752,     0.51852,     0.51952,     0.52052,     0.52152,     0.52252,     0.52352,     0.52452,     0.52553,     0.52653,     0.52753,\n",
       "           0.52853,     0.52953,     0.53053,     0.53153,     0.53253,     0.53353,     0.53453,     0.53554,     0.53654,     0.53754,     0.53854,     0.53954,     0.54054,     0.54154,     0.54254,     0.54354,     0.54454,     0.54555,     0.54655,     0.54755,     0.54855,     0.54955,     0.55055,     0.55155,\n",
       "           0.55255,     0.55355,     0.55455,     0.55556,     0.55656,     0.55756,     0.55856,     0.55956,     0.56056,     0.56156,     0.56256,     0.56356,     0.56456,     0.56557,     0.56657,     0.56757,     0.56857,     0.56957,     0.57057,     0.57157,     0.57257,     0.57357,     0.57457,     0.57558,\n",
       "           0.57658,     0.57758,     0.57858,     0.57958,     0.58058,     0.58158,     0.58258,     0.58358,     0.58458,     0.58559,     0.58659,     0.58759,     0.58859,     0.58959,     0.59059,     0.59159,     0.59259,     0.59359,     0.59459,      0.5956,      0.5966,      0.5976,      0.5986,      0.5996,\n",
       "            0.6006,      0.6016,      0.6026,      0.6036,      0.6046,     0.60561,     0.60661,     0.60761,     0.60861,     0.60961,     0.61061,     0.61161,     0.61261,     0.61361,     0.61461,     0.61562,     0.61662,     0.61762,     0.61862,     0.61962,     0.62062,     0.62162,     0.62262,     0.62362,\n",
       "           0.62462,     0.62563,     0.62663,     0.62763,     0.62863,     0.62963,     0.63063,     0.63163,     0.63263,     0.63363,     0.63463,     0.63564,     0.63664,     0.63764,     0.63864,     0.63964,     0.64064,     0.64164,     0.64264,     0.64364,     0.64464,     0.64565,     0.64665,     0.64765,\n",
       "           0.64865,     0.64965,     0.65065,     0.65165,     0.65265,     0.65365,     0.65465,     0.65566,     0.65666,     0.65766,     0.65866,     0.65966,     0.66066,     0.66166,     0.66266,     0.66366,     0.66466,     0.66567,     0.66667,     0.66767,     0.66867,     0.66967,     0.67067,     0.67167,\n",
       "           0.67267,     0.67367,     0.67467,     0.67568,     0.67668,     0.67768,     0.67868,     0.67968,     0.68068,     0.68168,     0.68268,     0.68368,     0.68468,     0.68569,     0.68669,     0.68769,     0.68869,     0.68969,     0.69069,     0.69169,     0.69269,     0.69369,     0.69469,      0.6957,\n",
       "            0.6967,      0.6977,      0.6987,      0.6997,      0.7007,      0.7017,      0.7027,      0.7037,      0.7047,     0.70571,     0.70671,     0.70771,     0.70871,     0.70971,     0.71071,     0.71171,     0.71271,     0.71371,     0.71471,     0.71572,     0.71672,     0.71772,     0.71872,     0.71972,\n",
       "           0.72072,     0.72172,     0.72272,     0.72372,     0.72472,     0.72573,     0.72673,     0.72773,     0.72873,     0.72973,     0.73073,     0.73173,     0.73273,     0.73373,     0.73473,     0.73574,     0.73674,     0.73774,     0.73874,     0.73974,     0.74074,     0.74174,     0.74274,     0.74374,\n",
       "           0.74474,     0.74575,     0.74675,     0.74775,     0.74875,     0.74975,     0.75075,     0.75175,     0.75275,     0.75375,     0.75475,     0.75576,     0.75676,     0.75776,     0.75876,     0.75976,     0.76076,     0.76176,     0.76276,     0.76376,     0.76476,     0.76577,     0.76677,     0.76777,\n",
       "           0.76877,     0.76977,     0.77077,     0.77177,     0.77277,     0.77377,     0.77477,     0.77578,     0.77678,     0.77778,     0.77878,     0.77978,     0.78078,     0.78178,     0.78278,     0.78378,     0.78478,     0.78579,     0.78679,     0.78779,     0.78879,     0.78979,     0.79079,     0.79179,\n",
       "           0.79279,     0.79379,     0.79479,      0.7958,      0.7968,      0.7978,      0.7988,      0.7998,      0.8008,      0.8018,      0.8028,      0.8038,      0.8048,     0.80581,     0.80681,     0.80781,     0.80881,     0.80981,     0.81081,     0.81181,     0.81281,     0.81381,     0.81481,     0.81582,\n",
       "           0.81682,     0.81782,     0.81882,     0.81982,     0.82082,     0.82182,     0.82282,     0.82382,     0.82482,     0.82583,     0.82683,     0.82783,     0.82883,     0.82983,     0.83083,     0.83183,     0.83283,     0.83383,     0.83483,     0.83584,     0.83684,     0.83784,     0.83884,     0.83984,\n",
       "           0.84084,     0.84184,     0.84284,     0.84384,     0.84484,     0.84585,     0.84685,     0.84785,     0.84885,     0.84985,     0.85085,     0.85185,     0.85285,     0.85385,     0.85485,     0.85586,     0.85686,     0.85786,     0.85886,     0.85986,     0.86086,     0.86186,     0.86286,     0.86386,\n",
       "           0.86486,     0.86587,     0.86687,     0.86787,     0.86887,     0.86987,     0.87087,     0.87187,     0.87287,     0.87387,     0.87487,     0.87588,     0.87688,     0.87788,     0.87888,     0.87988,     0.88088,     0.88188,     0.88288,     0.88388,     0.88488,     0.88589,     0.88689,     0.88789,\n",
       "           0.88889,     0.88989,     0.89089,     0.89189,     0.89289,     0.89389,     0.89489,      0.8959,      0.8969,      0.8979,      0.8989,      0.8999,      0.9009,      0.9019,      0.9029,      0.9039,      0.9049,     0.90591,     0.90691,     0.90791,     0.90891,     0.90991,     0.91091,     0.91191,\n",
       "           0.91291,     0.91391,     0.91491,     0.91592,     0.91692,     0.91792,     0.91892,     0.91992,     0.92092,     0.92192,     0.92292,     0.92392,     0.92492,     0.92593,     0.92693,     0.92793,     0.92893,     0.92993,     0.93093,     0.93193,     0.93293,     0.93393,     0.93493,     0.93594,\n",
       "           0.93694,     0.93794,     0.93894,     0.93994,     0.94094,     0.94194,     0.94294,     0.94394,     0.94494,     0.94595,     0.94695,     0.94795,     0.94895,     0.94995,     0.95095,     0.95195,     0.95295,     0.95395,     0.95495,     0.95596,     0.95696,     0.95796,     0.95896,     0.95996,\n",
       "           0.96096,     0.96196,     0.96296,     0.96396,     0.96496,     0.96597,     0.96697,     0.96797,     0.96897,     0.96997,     0.97097,     0.97197,     0.97297,     0.97397,     0.97497,     0.97598,     0.97698,     0.97798,     0.97898,     0.97998,     0.98098,     0.98198,     0.98298,     0.98398,\n",
       "           0.98498,     0.98599,     0.98699,     0.98799,     0.98899,     0.98999,     0.99099,     0.99199,     0.99299,     0.99399,     0.99499,       0.996,       0.997,       0.998,       0.999,           1]), array([[  0.0017087,   0.0017087,   0.0017087, ...,           1,           1,           1],\n",
       "       [  0.0037783,   0.0037783,   0.0037783, ...,           1,           1,           1],\n",
       "       [  0.0045532,   0.0045532,   0.0045532, ...,           1,           1,           1],\n",
       "       [  0.0045126,   0.0045126,   0.0045126, ...,           1,           1,           1]]), 'Confidence', 'Precision'], [array([          0,    0.001001,    0.002002,    0.003003,    0.004004,    0.005005,    0.006006,    0.007007,    0.008008,    0.009009,     0.01001,    0.011011,    0.012012,    0.013013,    0.014014,    0.015015,    0.016016,    0.017017,    0.018018,    0.019019,     0.02002,    0.021021,    0.022022,    0.023023,\n",
       "          0.024024,    0.025025,    0.026026,    0.027027,    0.028028,    0.029029,     0.03003,    0.031031,    0.032032,    0.033033,    0.034034,    0.035035,    0.036036,    0.037037,    0.038038,    0.039039,     0.04004,    0.041041,    0.042042,    0.043043,    0.044044,    0.045045,    0.046046,    0.047047,\n",
       "          0.048048,    0.049049,     0.05005,    0.051051,    0.052052,    0.053053,    0.054054,    0.055055,    0.056056,    0.057057,    0.058058,    0.059059,     0.06006,    0.061061,    0.062062,    0.063063,    0.064064,    0.065065,    0.066066,    0.067067,    0.068068,    0.069069,     0.07007,    0.071071,\n",
       "          0.072072,    0.073073,    0.074074,    0.075075,    0.076076,    0.077077,    0.078078,    0.079079,     0.08008,    0.081081,    0.082082,    0.083083,    0.084084,    0.085085,    0.086086,    0.087087,    0.088088,    0.089089,     0.09009,    0.091091,    0.092092,    0.093093,    0.094094,    0.095095,\n",
       "          0.096096,    0.097097,    0.098098,    0.099099,      0.1001,      0.1011,      0.1021,      0.1031,      0.1041,     0.10511,     0.10611,     0.10711,     0.10811,     0.10911,     0.11011,     0.11111,     0.11211,     0.11311,     0.11411,     0.11512,     0.11612,     0.11712,     0.11812,     0.11912,\n",
       "           0.12012,     0.12112,     0.12212,     0.12312,     0.12412,     0.12513,     0.12613,     0.12713,     0.12813,     0.12913,     0.13013,     0.13113,     0.13213,     0.13313,     0.13413,     0.13514,     0.13614,     0.13714,     0.13814,     0.13914,     0.14014,     0.14114,     0.14214,     0.14314,\n",
       "           0.14414,     0.14515,     0.14615,     0.14715,     0.14815,     0.14915,     0.15015,     0.15115,     0.15215,     0.15315,     0.15415,     0.15516,     0.15616,     0.15716,     0.15816,     0.15916,     0.16016,     0.16116,     0.16216,     0.16316,     0.16416,     0.16517,     0.16617,     0.16717,\n",
       "           0.16817,     0.16917,     0.17017,     0.17117,     0.17217,     0.17317,     0.17417,     0.17518,     0.17618,     0.17718,     0.17818,     0.17918,     0.18018,     0.18118,     0.18218,     0.18318,     0.18418,     0.18519,     0.18619,     0.18719,     0.18819,     0.18919,     0.19019,     0.19119,\n",
       "           0.19219,     0.19319,     0.19419,      0.1952,      0.1962,      0.1972,      0.1982,      0.1992,      0.2002,      0.2012,      0.2022,      0.2032,      0.2042,     0.20521,     0.20621,     0.20721,     0.20821,     0.20921,     0.21021,     0.21121,     0.21221,     0.21321,     0.21421,     0.21522,\n",
       "           0.21622,     0.21722,     0.21822,     0.21922,     0.22022,     0.22122,     0.22222,     0.22322,     0.22422,     0.22523,     0.22623,     0.22723,     0.22823,     0.22923,     0.23023,     0.23123,     0.23223,     0.23323,     0.23423,     0.23524,     0.23624,     0.23724,     0.23824,     0.23924,\n",
       "           0.24024,     0.24124,     0.24224,     0.24324,     0.24424,     0.24525,     0.24625,     0.24725,     0.24825,     0.24925,     0.25025,     0.25125,     0.25225,     0.25325,     0.25425,     0.25526,     0.25626,     0.25726,     0.25826,     0.25926,     0.26026,     0.26126,     0.26226,     0.26326,\n",
       "           0.26426,     0.26527,     0.26627,     0.26727,     0.26827,     0.26927,     0.27027,     0.27127,     0.27227,     0.27327,     0.27427,     0.27528,     0.27628,     0.27728,     0.27828,     0.27928,     0.28028,     0.28128,     0.28228,     0.28328,     0.28428,     0.28529,     0.28629,     0.28729,\n",
       "           0.28829,     0.28929,     0.29029,     0.29129,     0.29229,     0.29329,     0.29429,      0.2953,      0.2963,      0.2973,      0.2983,      0.2993,      0.3003,      0.3013,      0.3023,      0.3033,      0.3043,     0.30531,     0.30631,     0.30731,     0.30831,     0.30931,     0.31031,     0.31131,\n",
       "           0.31231,     0.31331,     0.31431,     0.31532,     0.31632,     0.31732,     0.31832,     0.31932,     0.32032,     0.32132,     0.32232,     0.32332,     0.32432,     0.32533,     0.32633,     0.32733,     0.32833,     0.32933,     0.33033,     0.33133,     0.33233,     0.33333,     0.33433,     0.33534,\n",
       "           0.33634,     0.33734,     0.33834,     0.33934,     0.34034,     0.34134,     0.34234,     0.34334,     0.34434,     0.34535,     0.34635,     0.34735,     0.34835,     0.34935,     0.35035,     0.35135,     0.35235,     0.35335,     0.35435,     0.35536,     0.35636,     0.35736,     0.35836,     0.35936,\n",
       "           0.36036,     0.36136,     0.36236,     0.36336,     0.36436,     0.36537,     0.36637,     0.36737,     0.36837,     0.36937,     0.37037,     0.37137,     0.37237,     0.37337,     0.37437,     0.37538,     0.37638,     0.37738,     0.37838,     0.37938,     0.38038,     0.38138,     0.38238,     0.38338,\n",
       "           0.38438,     0.38539,     0.38639,     0.38739,     0.38839,     0.38939,     0.39039,     0.39139,     0.39239,     0.39339,     0.39439,      0.3954,      0.3964,      0.3974,      0.3984,      0.3994,      0.4004,      0.4014,      0.4024,      0.4034,      0.4044,     0.40541,     0.40641,     0.40741,\n",
       "           0.40841,     0.40941,     0.41041,     0.41141,     0.41241,     0.41341,     0.41441,     0.41542,     0.41642,     0.41742,     0.41842,     0.41942,     0.42042,     0.42142,     0.42242,     0.42342,     0.42442,     0.42543,     0.42643,     0.42743,     0.42843,     0.42943,     0.43043,     0.43143,\n",
       "           0.43243,     0.43343,     0.43443,     0.43544,     0.43644,     0.43744,     0.43844,     0.43944,     0.44044,     0.44144,     0.44244,     0.44344,     0.44444,     0.44545,     0.44645,     0.44745,     0.44845,     0.44945,     0.45045,     0.45145,     0.45245,     0.45345,     0.45445,     0.45546,\n",
       "           0.45646,     0.45746,     0.45846,     0.45946,     0.46046,     0.46146,     0.46246,     0.46346,     0.46446,     0.46547,     0.46647,     0.46747,     0.46847,     0.46947,     0.47047,     0.47147,     0.47247,     0.47347,     0.47447,     0.47548,     0.47648,     0.47748,     0.47848,     0.47948,\n",
       "           0.48048,     0.48148,     0.48248,     0.48348,     0.48448,     0.48549,     0.48649,     0.48749,     0.48849,     0.48949,     0.49049,     0.49149,     0.49249,     0.49349,     0.49449,      0.4955,      0.4965,      0.4975,      0.4985,      0.4995,      0.5005,      0.5015,      0.5025,      0.5035,\n",
       "            0.5045,     0.50551,     0.50651,     0.50751,     0.50851,     0.50951,     0.51051,     0.51151,     0.51251,     0.51351,     0.51451,     0.51552,     0.51652,     0.51752,     0.51852,     0.51952,     0.52052,     0.52152,     0.52252,     0.52352,     0.52452,     0.52553,     0.52653,     0.52753,\n",
       "           0.52853,     0.52953,     0.53053,     0.53153,     0.53253,     0.53353,     0.53453,     0.53554,     0.53654,     0.53754,     0.53854,     0.53954,     0.54054,     0.54154,     0.54254,     0.54354,     0.54454,     0.54555,     0.54655,     0.54755,     0.54855,     0.54955,     0.55055,     0.55155,\n",
       "           0.55255,     0.55355,     0.55455,     0.55556,     0.55656,     0.55756,     0.55856,     0.55956,     0.56056,     0.56156,     0.56256,     0.56356,     0.56456,     0.56557,     0.56657,     0.56757,     0.56857,     0.56957,     0.57057,     0.57157,     0.57257,     0.57357,     0.57457,     0.57558,\n",
       "           0.57658,     0.57758,     0.57858,     0.57958,     0.58058,     0.58158,     0.58258,     0.58358,     0.58458,     0.58559,     0.58659,     0.58759,     0.58859,     0.58959,     0.59059,     0.59159,     0.59259,     0.59359,     0.59459,      0.5956,      0.5966,      0.5976,      0.5986,      0.5996,\n",
       "            0.6006,      0.6016,      0.6026,      0.6036,      0.6046,     0.60561,     0.60661,     0.60761,     0.60861,     0.60961,     0.61061,     0.61161,     0.61261,     0.61361,     0.61461,     0.61562,     0.61662,     0.61762,     0.61862,     0.61962,     0.62062,     0.62162,     0.62262,     0.62362,\n",
       "           0.62462,     0.62563,     0.62663,     0.62763,     0.62863,     0.62963,     0.63063,     0.63163,     0.63263,     0.63363,     0.63463,     0.63564,     0.63664,     0.63764,     0.63864,     0.63964,     0.64064,     0.64164,     0.64264,     0.64364,     0.64464,     0.64565,     0.64665,     0.64765,\n",
       "           0.64865,     0.64965,     0.65065,     0.65165,     0.65265,     0.65365,     0.65465,     0.65566,     0.65666,     0.65766,     0.65866,     0.65966,     0.66066,     0.66166,     0.66266,     0.66366,     0.66466,     0.66567,     0.66667,     0.66767,     0.66867,     0.66967,     0.67067,     0.67167,\n",
       "           0.67267,     0.67367,     0.67467,     0.67568,     0.67668,     0.67768,     0.67868,     0.67968,     0.68068,     0.68168,     0.68268,     0.68368,     0.68468,     0.68569,     0.68669,     0.68769,     0.68869,     0.68969,     0.69069,     0.69169,     0.69269,     0.69369,     0.69469,      0.6957,\n",
       "            0.6967,      0.6977,      0.6987,      0.6997,      0.7007,      0.7017,      0.7027,      0.7037,      0.7047,     0.70571,     0.70671,     0.70771,     0.70871,     0.70971,     0.71071,     0.71171,     0.71271,     0.71371,     0.71471,     0.71572,     0.71672,     0.71772,     0.71872,     0.71972,\n",
       "           0.72072,     0.72172,     0.72272,     0.72372,     0.72472,     0.72573,     0.72673,     0.72773,     0.72873,     0.72973,     0.73073,     0.73173,     0.73273,     0.73373,     0.73473,     0.73574,     0.73674,     0.73774,     0.73874,     0.73974,     0.74074,     0.74174,     0.74274,     0.74374,\n",
       "           0.74474,     0.74575,     0.74675,     0.74775,     0.74875,     0.74975,     0.75075,     0.75175,     0.75275,     0.75375,     0.75475,     0.75576,     0.75676,     0.75776,     0.75876,     0.75976,     0.76076,     0.76176,     0.76276,     0.76376,     0.76476,     0.76577,     0.76677,     0.76777,\n",
       "           0.76877,     0.76977,     0.77077,     0.77177,     0.77277,     0.77377,     0.77477,     0.77578,     0.77678,     0.77778,     0.77878,     0.77978,     0.78078,     0.78178,     0.78278,     0.78378,     0.78478,     0.78579,     0.78679,     0.78779,     0.78879,     0.78979,     0.79079,     0.79179,\n",
       "           0.79279,     0.79379,     0.79479,      0.7958,      0.7968,      0.7978,      0.7988,      0.7998,      0.8008,      0.8018,      0.8028,      0.8038,      0.8048,     0.80581,     0.80681,     0.80781,     0.80881,     0.80981,     0.81081,     0.81181,     0.81281,     0.81381,     0.81481,     0.81582,\n",
       "           0.81682,     0.81782,     0.81882,     0.81982,     0.82082,     0.82182,     0.82282,     0.82382,     0.82482,     0.82583,     0.82683,     0.82783,     0.82883,     0.82983,     0.83083,     0.83183,     0.83283,     0.83383,     0.83483,     0.83584,     0.83684,     0.83784,     0.83884,     0.83984,\n",
       "           0.84084,     0.84184,     0.84284,     0.84384,     0.84484,     0.84585,     0.84685,     0.84785,     0.84885,     0.84985,     0.85085,     0.85185,     0.85285,     0.85385,     0.85485,     0.85586,     0.85686,     0.85786,     0.85886,     0.85986,     0.86086,     0.86186,     0.86286,     0.86386,\n",
       "           0.86486,     0.86587,     0.86687,     0.86787,     0.86887,     0.86987,     0.87087,     0.87187,     0.87287,     0.87387,     0.87487,     0.87588,     0.87688,     0.87788,     0.87888,     0.87988,     0.88088,     0.88188,     0.88288,     0.88388,     0.88488,     0.88589,     0.88689,     0.88789,\n",
       "           0.88889,     0.88989,     0.89089,     0.89189,     0.89289,     0.89389,     0.89489,      0.8959,      0.8969,      0.8979,      0.8989,      0.8999,      0.9009,      0.9019,      0.9029,      0.9039,      0.9049,     0.90591,     0.90691,     0.90791,     0.90891,     0.90991,     0.91091,     0.91191,\n",
       "           0.91291,     0.91391,     0.91491,     0.91592,     0.91692,     0.91792,     0.91892,     0.91992,     0.92092,     0.92192,     0.92292,     0.92392,     0.92492,     0.92593,     0.92693,     0.92793,     0.92893,     0.92993,     0.93093,     0.93193,     0.93293,     0.93393,     0.93493,     0.93594,\n",
       "           0.93694,     0.93794,     0.93894,     0.93994,     0.94094,     0.94194,     0.94294,     0.94394,     0.94494,     0.94595,     0.94695,     0.94795,     0.94895,     0.94995,     0.95095,     0.95195,     0.95295,     0.95395,     0.95495,     0.95596,     0.95696,     0.95796,     0.95896,     0.95996,\n",
       "           0.96096,     0.96196,     0.96296,     0.96396,     0.96496,     0.96597,     0.96697,     0.96797,     0.96897,     0.96997,     0.97097,     0.97197,     0.97297,     0.97397,     0.97497,     0.97598,     0.97698,     0.97798,     0.97898,     0.97998,     0.98098,     0.98198,     0.98298,     0.98398,\n",
       "           0.98498,     0.98599,     0.98699,     0.98799,     0.98899,     0.98999,     0.99099,     0.99199,     0.99299,     0.99399,     0.99499,       0.996,       0.997,       0.998,       0.999,           1]), array([[          1,           1,           1, ...,           0,           0,           0],\n",
       "       [          1,           1,           1, ...,           0,           0,           0],\n",
       "       [          1,           1,           1, ...,           0,           0,           0],\n",
       "       [          1,           1,           1, ...,           0,           0,           0]]), 'Confidence', 'Recall']]\n",
       "fitness: 0.961755605486227\n",
       "keys: ['metrics/precision(B)', 'metrics/recall(B)', 'metrics/mAP50(B)', 'metrics/mAP50-95(B)']\n",
       "maps: array([      0.995,     0.91229,      0.9799,     0.94506])\n",
       "names: {0: 'sea_horse', 1: 'helicopter', 2: 'leopard', 3: 'pyramid'}\n",
       "nt_per_class: array([4, 3, 8, 5])\n",
       "nt_per_image: array([4, 3, 4, 4])\n",
       "results_dict: {'metrics/precision(B)': 0.9729015708557643, 'metrics/recall(B)': 0.9319835347837337, 'metrics/mAP50(B)': 0.995, 'metrics/mAP50-95(B)': 0.9580617838735854, 'fitness': 0.961755605486227}\n",
       "save_dir: PosixPath('runs/detect/train')\n",
       "speed: {'preprocess': 1.5347375000033026, 'inference': 101.27184169999737, 'loss': 8.539999498680118e-05, 'postprocess': 1.9915646000072231}\n",
       "stats: {'tp': [], 'conf': [], 'pred_cls': [], 'target_cls': [], 'target_img': []}\n",
       "task: 'detect'"
      ]
     },
     "execution_count": 11,
     "metadata": {},
     "output_type": "execute_result"
    }
   ],
   "source": [
    "from ultralytics import YOLO\n",
    "model = YOLO(\"yolov8n.pt\")\n",
    "model.train(data=\"/Users/denizcemcangoz/Desktop/my_dataset/data.yaml\", epochs=100, imgsz=640)\n"
   ]
  },
  {
   "cell_type": "code",
   "execution_count": 13,
   "metadata": {},
   "outputs": [
    {
     "name": "stdout",
     "output_type": "stream",
     "text": [
      "\n",
      "image 1/259 /Users/denizcemcangoz/Desktop/my_dataset/raw_unlabeled/image_0005 kopyası 2.jpg: 608x640 1 pyramid, 126.1ms\n",
      "image 2/259 /Users/denizcemcangoz/Desktop/my_dataset/raw_unlabeled/image_0005 kopyası 3.jpg: 640x448 (no detections), 98.5ms\n",
      "image 3/259 /Users/denizcemcangoz/Desktop/my_dataset/raw_unlabeled/image_0005 kopyası.jpg: 448x640 (no detections), 98.3ms\n",
      "image 4/259 /Users/denizcemcangoz/Desktop/my_dataset/raw_unlabeled/image_0005.jpg: 352x640 (no detections), 85.1ms\n",
      "image 5/259 /Users/denizcemcangoz/Desktop/my_dataset/raw_unlabeled/image_0006 kopyası 2.jpg: 640x608 4 pyramids, 181.6ms\n",
      "image 6/259 /Users/denizcemcangoz/Desktop/my_dataset/raw_unlabeled/image_0006 kopyası 3.jpg: 608x640 3 sea_horses, 119.5ms\n",
      "image 7/259 /Users/denizcemcangoz/Desktop/my_dataset/raw_unlabeled/image_0006 kopyası.jpg: 448x640 (no detections), 102.2ms\n",
      "image 8/259 /Users/denizcemcangoz/Desktop/my_dataset/raw_unlabeled/image_0006.jpg: 416x640 1 helicopter, 137.3ms\n",
      "image 9/259 /Users/denizcemcangoz/Desktop/my_dataset/raw_unlabeled/image_0007 kopyası 2.jpg: 416x640 1 pyramid, 91.0ms\n",
      "image 10/259 /Users/denizcemcangoz/Desktop/my_dataset/raw_unlabeled/image_0007 kopyası 3.jpg: 640x448 1 sea_horse, 1 helicopter, 96.5ms\n",
      "image 11/259 /Users/denizcemcangoz/Desktop/my_dataset/raw_unlabeled/image_0007 kopyası.jpg: 448x640 1 leopard, 98.7ms\n",
      "image 12/259 /Users/denizcemcangoz/Desktop/my_dataset/raw_unlabeled/image_0007.jpg: 480x640 1 helicopter, 105.8ms\n",
      "image 13/259 /Users/denizcemcangoz/Desktop/my_dataset/raw_unlabeled/image_0008 kopyası 2.jpg: 640x640 1 pyramid, 183.5ms\n",
      "image 14/259 /Users/denizcemcangoz/Desktop/my_dataset/raw_unlabeled/image_0008 kopyası 3.jpg: 640x480 1 sea_horse, 104.5ms\n",
      "image 15/259 /Users/denizcemcangoz/Desktop/my_dataset/raw_unlabeled/image_0008 kopyası.jpg: 448x640 1 leopard, 100.3ms\n",
      "image 16/259 /Users/denizcemcangoz/Desktop/my_dataset/raw_unlabeled/image_0008.jpg: 512x640 1 helicopter, 109.4ms\n",
      "image 17/259 /Users/denizcemcangoz/Desktop/my_dataset/raw_unlabeled/image_0009 kopyası 2.jpg: 448x640 2 pyramids, 181.9ms\n",
      "image 18/259 /Users/denizcemcangoz/Desktop/my_dataset/raw_unlabeled/image_0009 kopyası 3.jpg: 640x640 2 sea_horses, 1 pyramid, 183.9ms\n",
      "image 19/259 /Users/denizcemcangoz/Desktop/my_dataset/raw_unlabeled/image_0009 kopyası.jpg: 448x640 1 leopard, 105.2ms\n",
      "image 20/259 /Users/denizcemcangoz/Desktop/my_dataset/raw_unlabeled/image_0009.jpg: 416x640 2 helicopters, 98.8ms\n",
      "image 21/259 /Users/denizcemcangoz/Desktop/my_dataset/raw_unlabeled/image_0010 kopyası 2.jpg: 384x640 1 leopard, 103.7ms\n",
      "image 22/259 /Users/denizcemcangoz/Desktop/my_dataset/raw_unlabeled/image_0010 kopyası 3.jpg: 448x640 1 sea_horse, 124.5ms\n",
      "image 23/259 /Users/denizcemcangoz/Desktop/my_dataset/raw_unlabeled/image_0010 kopyası.jpg: 448x640 3 leopards, 97.7ms\n",
      "image 24/259 /Users/denizcemcangoz/Desktop/my_dataset/raw_unlabeled/image_0010.jpg: 544x640 1 sea_horse, 169.3ms\n",
      "image 25/259 /Users/denizcemcangoz/Desktop/my_dataset/raw_unlabeled/image_0011 kopyası 2.jpg: 448x640 1 pyramid, 94.6ms\n",
      "image 26/259 /Users/denizcemcangoz/Desktop/my_dataset/raw_unlabeled/image_0011 kopyası 3.jpg: 640x448 1 sea_horse, 101.9ms\n",
      "image 27/259 /Users/denizcemcangoz/Desktop/my_dataset/raw_unlabeled/image_0011 kopyası.jpg: 448x640 1 leopard, 96.9ms\n",
      "image 28/259 /Users/denizcemcangoz/Desktop/my_dataset/raw_unlabeled/image_0011.jpg: 448x640 1 helicopter, 96.9ms\n",
      "image 29/259 /Users/denizcemcangoz/Desktop/my_dataset/raw_unlabeled/image_0012 kopyası 2.jpg: 640x640 (no detections), 129.0ms\n",
      "image 30/259 /Users/denizcemcangoz/Desktop/my_dataset/raw_unlabeled/image_0012 kopyası 3.jpg: 640x608 1 sea_horse, 125.0ms\n",
      "image 31/259 /Users/denizcemcangoz/Desktop/my_dataset/raw_unlabeled/image_0012 kopyası.jpg: 448x640 2 leopards, 103.8ms\n",
      "image 32/259 /Users/denizcemcangoz/Desktop/my_dataset/raw_unlabeled/image_0012.jpg: 544x640 1 helicopter, 134.6ms\n",
      "image 33/259 /Users/denizcemcangoz/Desktop/my_dataset/raw_unlabeled/image_0013 kopyası 2.jpg: 640x608 1 helicopter, 138.7ms\n",
      "image 34/259 /Users/denizcemcangoz/Desktop/my_dataset/raw_unlabeled/image_0013 kopyası 3.jpg: 640x480 1 sea_horse, 130.7ms\n",
      "image 35/259 /Users/denizcemcangoz/Desktop/my_dataset/raw_unlabeled/image_0013 kopyası.jpg: 448x640 1 leopard, 106.9ms\n",
      "image 36/259 /Users/denizcemcangoz/Desktop/my_dataset/raw_unlabeled/image_0013.jpg: 640x640 1 helicopter, 211.6ms\n",
      "image 37/259 /Users/denizcemcangoz/Desktop/my_dataset/raw_unlabeled/image_0014 kopyası 2.jpg: 512x640 1 sea_horse, 1 pyramid, 211.5ms\n",
      "image 38/259 /Users/denizcemcangoz/Desktop/my_dataset/raw_unlabeled/image_0014 kopyası 3.jpg: 640x576 (no detections), 132.3ms\n",
      "image 39/259 /Users/denizcemcangoz/Desktop/my_dataset/raw_unlabeled/image_0014 kopyası.jpg: 448x640 (no detections), 105.7ms\n",
      "image 40/259 /Users/denizcemcangoz/Desktop/my_dataset/raw_unlabeled/image_0014.jpg: 416x640 (no detections), 104.3ms\n",
      "image 41/259 /Users/denizcemcangoz/Desktop/my_dataset/raw_unlabeled/image_0015 kopyası 2.jpg: 416x640 1 pyramid, 161.0ms\n",
      "image 42/259 /Users/denizcemcangoz/Desktop/my_dataset/raw_unlabeled/image_0015 kopyası 3.jpg: 640x448 3 sea_horses, 124.6ms\n",
      "image 43/259 /Users/denizcemcangoz/Desktop/my_dataset/raw_unlabeled/image_0015 kopyası.jpg: 448x640 1 leopard, 97.8ms\n",
      "image 44/259 /Users/denizcemcangoz/Desktop/my_dataset/raw_unlabeled/image_0015.jpg: 352x640 1 helicopter, 93.5ms\n",
      "image 45/259 /Users/denizcemcangoz/Desktop/my_dataset/raw_unlabeled/image_0016 kopyası 2.jpg: 416x640 2 pyramids, 111.5ms\n",
      "image 46/259 /Users/denizcemcangoz/Desktop/my_dataset/raw_unlabeled/image_0016 kopyası 3.jpg: 416x640 2 sea_horses, 189.0ms\n",
      "image 47/259 /Users/denizcemcangoz/Desktop/my_dataset/raw_unlabeled/image_0016 kopyası.jpg: 448x640 1 sea_horse, 1 leopard, 94.8ms\n",
      "image 48/259 /Users/denizcemcangoz/Desktop/my_dataset/raw_unlabeled/image_0016.jpg: 448x640 (no detections), 97.2ms\n",
      "image 49/259 /Users/denizcemcangoz/Desktop/my_dataset/raw_unlabeled/image_0017 kopyası 2.jpg: 448x640 1 pyramid, 99.8ms\n",
      "image 50/259 /Users/denizcemcangoz/Desktop/my_dataset/raw_unlabeled/image_0017 kopyası 3.jpg: 448x640 2 sea_horses, 98.0ms\n",
      "image 51/259 /Users/denizcemcangoz/Desktop/my_dataset/raw_unlabeled/image_0017 kopyası.jpg: 448x640 3 leopards, 140.6ms\n",
      "image 52/259 /Users/denizcemcangoz/Desktop/my_dataset/raw_unlabeled/image_0017.jpg: 416x640 (no detections), 122.6ms\n",
      "image 53/259 /Users/denizcemcangoz/Desktop/my_dataset/raw_unlabeled/image_0018 kopyası 2.jpg: 512x640 1 pyramid, 105.0ms\n",
      "image 54/259 /Users/denizcemcangoz/Desktop/my_dataset/raw_unlabeled/image_0018 kopyası 3.jpg: 640x416 1 sea_horse, 1 pyramid, 139.4ms\n",
      "image 55/259 /Users/denizcemcangoz/Desktop/my_dataset/raw_unlabeled/image_0018 kopyası.jpg: 448x640 (no detections), 100.2ms\n",
      "image 56/259 /Users/denizcemcangoz/Desktop/my_dataset/raw_unlabeled/image_0018.jpg: 480x640 3 helicopters, 135.6ms\n",
      "image 57/259 /Users/denizcemcangoz/Desktop/my_dataset/raw_unlabeled/image_0019 kopyası 2.jpg: 640x640 1 pyramid, 132.8ms\n",
      "image 58/259 /Users/denizcemcangoz/Desktop/my_dataset/raw_unlabeled/image_0019 kopyası 3.jpg: 640x448 1 sea_horse, 108.9ms\n",
      "image 59/259 /Users/denizcemcangoz/Desktop/my_dataset/raw_unlabeled/image_0019 kopyası.jpg: 448x640 1 helicopter, 1 leopard, 103.0ms\n",
      "image 60/259 /Users/denizcemcangoz/Desktop/my_dataset/raw_unlabeled/image_0019.jpg: 384x640 1 helicopter, 89.9ms\n",
      "image 61/259 /Users/denizcemcangoz/Desktop/my_dataset/raw_unlabeled/image_0020 kopyası 2.jpg: 640x640 1 sea_horse, 1 pyramid, 156.4ms\n",
      "image 62/259 /Users/denizcemcangoz/Desktop/my_dataset/raw_unlabeled/image_0020 kopyası 3.jpg: 640x512 (no detections), 110.2ms\n",
      "image 63/259 /Users/denizcemcangoz/Desktop/my_dataset/raw_unlabeled/image_0020 kopyası.jpg: 640x448 1 leopard, 114.1ms\n",
      "image 64/259 /Users/denizcemcangoz/Desktop/my_dataset/raw_unlabeled/image_0020.jpg: 416x640 1 helicopter, 95.7ms\n",
      "image 65/259 /Users/denizcemcangoz/Desktop/my_dataset/raw_unlabeled/image_0021 kopyası 2.jpg: 512x640 1 pyramid, 124.4ms\n",
      "image 66/259 /Users/denizcemcangoz/Desktop/my_dataset/raw_unlabeled/image_0021 kopyası 3.jpg: 640x448 1 sea_horse, 113.4ms\n",
      "image 67/259 /Users/denizcemcangoz/Desktop/my_dataset/raw_unlabeled/image_0021 kopyası.jpg: 448x640 2 leopards, 105.2ms\n",
      "image 68/259 /Users/denizcemcangoz/Desktop/my_dataset/raw_unlabeled/image_0021.jpg: 384x640 (no detections), 87.6ms\n",
      "image 69/259 /Users/denizcemcangoz/Desktop/my_dataset/raw_unlabeled/image_0022 kopyası 2.jpg: 448x640 1 pyramid, 96.2ms\n",
      "image 70/259 /Users/denizcemcangoz/Desktop/my_dataset/raw_unlabeled/image_0022 kopyası 3.jpg: 480x640 2 sea_horses, 1 leopard, 1 pyramid, 135.8ms\n",
      "image 71/259 /Users/denizcemcangoz/Desktop/my_dataset/raw_unlabeled/image_0022 kopyası.jpg: 448x640 3 leopards, 120.7ms\n",
      "image 72/259 /Users/denizcemcangoz/Desktop/my_dataset/raw_unlabeled/image_0022.jpg: 448x640 1 helicopter, 113.1ms\n",
      "image 73/259 /Users/denizcemcangoz/Desktop/my_dataset/raw_unlabeled/image_0023 kopyası 2.jpg: 448x640 (no detections), 94.2ms\n",
      "image 74/259 /Users/denizcemcangoz/Desktop/my_dataset/raw_unlabeled/image_0023 kopyası 3.jpg: 640x448 1 sea_horse, 97.6ms\n",
      "image 75/259 /Users/denizcemcangoz/Desktop/my_dataset/raw_unlabeled/image_0023 kopyası.jpg: 640x448 2 sea_horses, 98.8ms\n",
      "image 76/259 /Users/denizcemcangoz/Desktop/my_dataset/raw_unlabeled/image_0023.jpg: 480x640 1 helicopter, 125.2ms\n",
      "image 77/259 /Users/denizcemcangoz/Desktop/my_dataset/raw_unlabeled/image_0024 kopyası 2.jpg: 480x640 (no detections), 101.8ms\n",
      "image 78/259 /Users/denizcemcangoz/Desktop/my_dataset/raw_unlabeled/image_0024 kopyası 3.jpg: 512x640 1 sea_horse, 128.5ms\n",
      "image 79/259 /Users/denizcemcangoz/Desktop/my_dataset/raw_unlabeled/image_0024 kopyası.jpg: 448x640 1 leopard, 102.9ms\n",
      "image 80/259 /Users/denizcemcangoz/Desktop/my_dataset/raw_unlabeled/image_0024.jpg: 480x640 1 helicopter, 109.7ms\n",
      "image 81/259 /Users/denizcemcangoz/Desktop/my_dataset/raw_unlabeled/image_0025 kopyası 2.jpg: 480x640 2 pyramids, 129.2ms\n",
      "image 82/259 /Users/denizcemcangoz/Desktop/my_dataset/raw_unlabeled/image_0025 kopyası 3.jpg: 640x576 1 sea_horse, 2 helicopters, 132.4ms\n",
      "image 83/259 /Users/denizcemcangoz/Desktop/my_dataset/raw_unlabeled/image_0025 kopyası.jpg: 448x640 4 leopards, 101.4ms\n",
      "image 84/259 /Users/denizcemcangoz/Desktop/my_dataset/raw_unlabeled/image_0025.jpg: 480x640 1 helicopter, 103.4ms\n",
      "image 85/259 /Users/denizcemcangoz/Desktop/my_dataset/raw_unlabeled/image_0026 kopyası 2.jpg: 480x640 1 pyramid, 113.6ms\n",
      "image 86/259 /Users/denizcemcangoz/Desktop/my_dataset/raw_unlabeled/image_0026 kopyası 3.jpg: 640x448 3 helicopters, 109.4ms\n",
      "image 87/259 /Users/denizcemcangoz/Desktop/my_dataset/raw_unlabeled/image_0026 kopyası.jpg: 448x640 1 leopard, 99.3ms\n",
      "image 88/259 /Users/denizcemcangoz/Desktop/my_dataset/raw_unlabeled/image_0026.jpg: 416x640 1 helicopter, 96.2ms\n",
      "image 89/259 /Users/denizcemcangoz/Desktop/my_dataset/raw_unlabeled/image_0027 kopyası 2.jpg: 608x640 1 sea_horse, 1 leopard, 1 pyramid, 171.7ms\n",
      "image 90/259 /Users/denizcemcangoz/Desktop/my_dataset/raw_unlabeled/image_0027 kopyası 3.jpg: 640x640 2 sea_horses, 148.8ms\n",
      "image 91/259 /Users/denizcemcangoz/Desktop/my_dataset/raw_unlabeled/image_0027 kopyası.jpg: 448x640 2 leopards, 99.8ms\n",
      "image 92/259 /Users/denizcemcangoz/Desktop/my_dataset/raw_unlabeled/image_0027.jpg: 416x640 (no detections), 89.5ms\n",
      "image 93/259 /Users/denizcemcangoz/Desktop/my_dataset/raw_unlabeled/image_0028 kopyası 2.jpg: 480x640 1 leopard, 2 pyramids, 104.8ms\n",
      "image 94/259 /Users/denizcemcangoz/Desktop/my_dataset/raw_unlabeled/image_0028 kopyası 3.jpg: 480x640 1 leopard, 116.8ms\n",
      "image 95/259 /Users/denizcemcangoz/Desktop/my_dataset/raw_unlabeled/image_0028 kopyası.jpg: 448x640 1 leopard, 114.8ms\n",
      "image 96/259 /Users/denizcemcangoz/Desktop/my_dataset/raw_unlabeled/image_0028.jpg: 416x640 2 helicopters, 93.5ms\n",
      "image 97/259 /Users/denizcemcangoz/Desktop/my_dataset/raw_unlabeled/image_0029 kopyası 2.jpg: 448x640 1 pyramid, 99.5ms\n",
      "image 98/259 /Users/denizcemcangoz/Desktop/my_dataset/raw_unlabeled/image_0029 kopyası 3.jpg: 640x448 1 sea_horse, 96.5ms\n",
      "image 99/259 /Users/denizcemcangoz/Desktop/my_dataset/raw_unlabeled/image_0029 kopyası.jpg: 448x640 2 leopards, 100.0ms\n",
      "image 100/259 /Users/denizcemcangoz/Desktop/my_dataset/raw_unlabeled/image_0029.jpg: 480x640 1 pyramid, 119.3ms\n",
      "image 101/259 /Users/denizcemcangoz/Desktop/my_dataset/raw_unlabeled/image_0030 kopyası 2.jpg: 480x640 1 pyramid, 106.1ms\n",
      "image 102/259 /Users/denizcemcangoz/Desktop/my_dataset/raw_unlabeled/image_0030 kopyası 3.jpg: 640x448 2 sea_horses, 98.6ms\n",
      "image 103/259 /Users/denizcemcangoz/Desktop/my_dataset/raw_unlabeled/image_0030 kopyası.jpg: 448x640 1 leopard, 99.7ms\n",
      "image 104/259 /Users/denizcemcangoz/Desktop/my_dataset/raw_unlabeled/image_0030.jpg: 480x640 1 helicopter, 107.5ms\n",
      "image 105/259 /Users/denizcemcangoz/Desktop/my_dataset/raw_unlabeled/image_0031 kopyası 2.jpg: 448x640 1 pyramid, 158.9ms\n",
      "image 106/259 /Users/denizcemcangoz/Desktop/my_dataset/raw_unlabeled/image_0031 kopyası 3.jpg: 640x544 3 helicopters, 167.2ms\n",
      "image 107/259 /Users/denizcemcangoz/Desktop/my_dataset/raw_unlabeled/image_0031 kopyası.jpg: 640x448 1 sea_horse, 100.0ms\n",
      "image 108/259 /Users/denizcemcangoz/Desktop/my_dataset/raw_unlabeled/image_0031.jpg: 352x640 1 helicopter, 80.3ms\n",
      "image 109/259 /Users/denizcemcangoz/Desktop/my_dataset/raw_unlabeled/image_0032 kopyası 2.jpg: 448x640 1 pyramid, 114.8ms\n",
      "image 110/259 /Users/denizcemcangoz/Desktop/my_dataset/raw_unlabeled/image_0032 kopyası 3.jpg: 640x416 4 leopards, 92.3ms\n",
      "image 111/259 /Users/denizcemcangoz/Desktop/my_dataset/raw_unlabeled/image_0032 kopyası.jpg: 448x640 1 leopard, 94.8ms\n",
      "image 112/259 /Users/denizcemcangoz/Desktop/my_dataset/raw_unlabeled/image_0032.jpg: 448x640 2 helicopters, 96.2ms\n",
      "image 113/259 /Users/denizcemcangoz/Desktop/my_dataset/raw_unlabeled/image_0033 kopyası 2.jpg: 576x640 1 pyramid, 191.8ms\n",
      "image 114/259 /Users/denizcemcangoz/Desktop/my_dataset/raw_unlabeled/image_0033 kopyası 3.jpg: 512x640 1 helicopter, 120.2ms\n",
      "image 115/259 /Users/denizcemcangoz/Desktop/my_dataset/raw_unlabeled/image_0033 kopyası.jpg: 640x448 (no detections), 94.0ms\n",
      "image 116/259 /Users/denizcemcangoz/Desktop/my_dataset/raw_unlabeled/image_0033.jpg: 480x640 1 helicopter, 106.6ms\n",
      "image 117/259 /Users/denizcemcangoz/Desktop/my_dataset/raw_unlabeled/image_0034 kopyası 2.jpg: 448x640 1 pyramid, 98.8ms\n",
      "image 118/259 /Users/denizcemcangoz/Desktop/my_dataset/raw_unlabeled/image_0034 kopyası 3.jpg: 480x640 1 sea_horse, 105.9ms\n",
      "image 119/259 /Users/denizcemcangoz/Desktop/my_dataset/raw_unlabeled/image_0034 kopyası.jpg: 448x640 3 leopards, 129.0ms\n",
      "image 120/259 /Users/denizcemcangoz/Desktop/my_dataset/raw_unlabeled/image_0034.jpg: 480x640 1 helicopter, 1 pyramid, 107.3ms\n",
      "image 121/259 /Users/denizcemcangoz/Desktop/my_dataset/raw_unlabeled/image_0035 kopyası 2.jpg: 480x640 1 pyramid, 103.1ms\n",
      "image 122/259 /Users/denizcemcangoz/Desktop/my_dataset/raw_unlabeled/image_0035 kopyası 3.jpg: 640x480 2 sea_horses, 1 helicopter, 102.8ms\n",
      "image 123/259 /Users/denizcemcangoz/Desktop/my_dataset/raw_unlabeled/image_0035 kopyası.jpg: 448x640 1 leopard, 118.6ms\n",
      "image 124/259 /Users/denizcemcangoz/Desktop/my_dataset/raw_unlabeled/image_0035.jpg: 576x640 2 helicopters, 2 leopards, 133.9ms\n",
      "image 125/259 /Users/denizcemcangoz/Desktop/my_dataset/raw_unlabeled/image_0036 kopyası 2.jpg: 640x576 1 helicopter, 1 pyramid, 119.4ms\n",
      "image 126/259 /Users/denizcemcangoz/Desktop/my_dataset/raw_unlabeled/image_0036 kopyası 3.jpg: 640x480 2 sea_horses, 105.3ms\n",
      "image 127/259 /Users/denizcemcangoz/Desktop/my_dataset/raw_unlabeled/image_0036 kopyası.jpg: 448x640 (no detections), 97.4ms\n",
      "image 128/259 /Users/denizcemcangoz/Desktop/my_dataset/raw_unlabeled/image_0036.jpg: 480x640 (no detections), 100.2ms\n",
      "image 129/259 /Users/denizcemcangoz/Desktop/my_dataset/raw_unlabeled/image_0037 kopyası 2.jpg: 448x640 (no detections), 105.7ms\n",
      "image 130/259 /Users/denizcemcangoz/Desktop/my_dataset/raw_unlabeled/image_0037 kopyası 3.jpg: 384x640 1 sea_horse, 106.8ms\n",
      "image 131/259 /Users/denizcemcangoz/Desktop/my_dataset/raw_unlabeled/image_0037 kopyası.jpg: 448x640 2 leopards, 107.6ms\n",
      "image 132/259 /Users/denizcemcangoz/Desktop/my_dataset/raw_unlabeled/image_0037.jpg: 448x640 (no detections), 102.5ms\n",
      "image 133/259 /Users/denizcemcangoz/Desktop/my_dataset/raw_unlabeled/image_0038 kopyası 2.jpg: 608x640 1 pyramid, 136.5ms\n",
      "image 134/259 /Users/denizcemcangoz/Desktop/my_dataset/raw_unlabeled/image_0038 kopyası 3.jpg: 640x352 1 sea_horse, 127.9ms\n",
      "image 135/259 /Users/denizcemcangoz/Desktop/my_dataset/raw_unlabeled/image_0038 kopyası.jpg: 448x640 1 leopard, 103.0ms\n",
      "image 136/259 /Users/denizcemcangoz/Desktop/my_dataset/raw_unlabeled/image_0038.jpg: 448x640 1 helicopter, 95.5ms\n",
      "image 137/259 /Users/denizcemcangoz/Desktop/my_dataset/raw_unlabeled/image_0039 kopyası 2.jpg: 512x640 1 pyramid, 108.1ms\n",
      "image 138/259 /Users/denizcemcangoz/Desktop/my_dataset/raw_unlabeled/image_0039 kopyası 3.jpg: 640x512 1 sea_horse, 161.8ms\n",
      "image 139/259 /Users/denizcemcangoz/Desktop/my_dataset/raw_unlabeled/image_0039 kopyası.jpg: 448x640 1 leopard, 95.7ms\n",
      "image 140/259 /Users/denizcemcangoz/Desktop/my_dataset/raw_unlabeled/image_0039.jpg: 480x640 1 helicopter, 122.8ms\n",
      "image 141/259 /Users/denizcemcangoz/Desktop/my_dataset/raw_unlabeled/image_0040 kopyası 2.jpg: 448x640 1 pyramid, 97.9ms\n",
      "image 142/259 /Users/denizcemcangoz/Desktop/my_dataset/raw_unlabeled/image_0040 kopyası 3.jpg: 640x480 3 sea_horses, 103.4ms\n",
      "image 143/259 /Users/denizcemcangoz/Desktop/my_dataset/raw_unlabeled/image_0040 kopyası.jpg: 448x640 1 leopard, 112.2ms\n",
      "image 144/259 /Users/denizcemcangoz/Desktop/my_dataset/raw_unlabeled/image_0040.jpg: 480x640 (no detections), 110.9ms\n",
      "image 145/259 /Users/denizcemcangoz/Desktop/my_dataset/raw_unlabeled/image_0041 kopyası 2.jpg: 384x640 1 pyramid, 105.8ms\n",
      "image 146/259 /Users/denizcemcangoz/Desktop/my_dataset/raw_unlabeled/image_0041 kopyası 3.jpg: 640x480 1 sea_horse, 102.8ms\n",
      "image 147/259 /Users/denizcemcangoz/Desktop/my_dataset/raw_unlabeled/image_0041 kopyası.jpg: 448x640 2 leopards, 122.3ms\n",
      "image 148/259 /Users/denizcemcangoz/Desktop/my_dataset/raw_unlabeled/image_0041.jpg: 512x640 2 helicopters, 117.8ms\n",
      "image 149/259 /Users/denizcemcangoz/Desktop/my_dataset/raw_unlabeled/image_0042 kopyası 2.jpg: 480x640 2 leopards, 1 pyramid, 106.1ms\n",
      "image 150/259 /Users/denizcemcangoz/Desktop/my_dataset/raw_unlabeled/image_0042 kopyası 3.jpg: 480x640 2 sea_horses, 117.0ms\n",
      "image 151/259 /Users/denizcemcangoz/Desktop/my_dataset/raw_unlabeled/image_0042 kopyası.jpg: 640x448 1 leopard, 104.4ms\n",
      "image 152/259 /Users/denizcemcangoz/Desktop/my_dataset/raw_unlabeled/image_0042.jpg: 512x640 1 helicopter, 171.9ms\n",
      "image 153/259 /Users/denizcemcangoz/Desktop/my_dataset/raw_unlabeled/image_0043 kopyası 2.jpg: 640x640 1 pyramid, 196.8ms\n",
      "image 154/259 /Users/denizcemcangoz/Desktop/my_dataset/raw_unlabeled/image_0043 kopyası 3.jpg: 608x640 2 sea_horses, 223.3ms\n",
      "image 155/259 /Users/denizcemcangoz/Desktop/my_dataset/raw_unlabeled/image_0043 kopyası.jpg: 448x640 2 leopards, 139.6ms\n",
      "image 156/259 /Users/denizcemcangoz/Desktop/my_dataset/raw_unlabeled/image_0043.jpg: 416x640 1 helicopter, 166.9ms\n",
      "image 157/259 /Users/denizcemcangoz/Desktop/my_dataset/raw_unlabeled/image_0044 kopyası 2.jpg: 576x640 1 helicopter, 209.4ms\n",
      "image 158/259 /Users/denizcemcangoz/Desktop/my_dataset/raw_unlabeled/image_0044 kopyası 3.jpg: 640x512 1 sea_horse, 161.1ms\n",
      "image 159/259 /Users/denizcemcangoz/Desktop/my_dataset/raw_unlabeled/image_0044 kopyası.jpg: 640x448 1 sea_horse, 2 leopards, 181.1ms\n",
      "image 160/259 /Users/denizcemcangoz/Desktop/my_dataset/raw_unlabeled/image_0044.jpg: 512x640 1 helicopter, 304.9ms\n",
      "image 161/259 /Users/denizcemcangoz/Desktop/my_dataset/raw_unlabeled/image_0045 kopyası 2.jpg: 480x640 1 helicopter, 3 leopards, 1 pyramid, 174.0ms\n",
      "image 162/259 /Users/denizcemcangoz/Desktop/my_dataset/raw_unlabeled/image_0045 kopyası 3.jpg: 640x448 1 sea_horse, 235.6ms\n",
      "image 163/259 /Users/denizcemcangoz/Desktop/my_dataset/raw_unlabeled/image_0045 kopyası.jpg: 448x640 (no detections), 111.6ms\n",
      "image 164/259 /Users/denizcemcangoz/Desktop/my_dataset/raw_unlabeled/image_0045.jpg: 512x640 2 helicopters, 1 leopard, 113.9ms\n",
      "image 165/259 /Users/denizcemcangoz/Desktop/my_dataset/raw_unlabeled/image_0046 kopyası 2.jpg: 416x640 1 pyramid, 118.6ms\n",
      "image 166/259 /Users/denizcemcangoz/Desktop/my_dataset/raw_unlabeled/image_0046 kopyası 3.jpg: 480x640 3 helicopters, 115.6ms\n",
      "image 167/259 /Users/denizcemcangoz/Desktop/my_dataset/raw_unlabeled/image_0046 kopyası.jpg: 448x640 (no detections), 124.0ms\n",
      "image 168/259 /Users/denizcemcangoz/Desktop/my_dataset/raw_unlabeled/image_0046.jpg: 480x640 1 helicopter, 1 pyramid, 108.8ms\n",
      "image 169/259 /Users/denizcemcangoz/Desktop/my_dataset/raw_unlabeled/image_0047 kopyası 2.jpg: 448x640 2 pyramids, 95.8ms\n",
      "image 170/259 /Users/denizcemcangoz/Desktop/my_dataset/raw_unlabeled/image_0047 kopyası 3.jpg: 640x480 1 sea_horse, 202.2ms\n",
      "image 171/259 /Users/denizcemcangoz/Desktop/my_dataset/raw_unlabeled/image_0047 kopyası.jpg: 448x640 2 helicopters, 121.2ms\n",
      "image 172/259 /Users/denizcemcangoz/Desktop/my_dataset/raw_unlabeled/image_0047.jpg: 544x640 (no detections), 171.0ms\n",
      "image 173/259 /Users/denizcemcangoz/Desktop/my_dataset/raw_unlabeled/image_0048 kopyası 2.jpg: 512x640 1 pyramid, 110.6ms\n",
      "image 174/259 /Users/denizcemcangoz/Desktop/my_dataset/raw_unlabeled/image_0048 kopyası 3.jpg: 640x416 1 helicopter, 1 leopard, 119.7ms\n",
      "image 175/259 /Users/denizcemcangoz/Desktop/my_dataset/raw_unlabeled/image_0048 kopyası.jpg: 448x640 2 leopards, 131.1ms\n",
      "image 176/259 /Users/denizcemcangoz/Desktop/my_dataset/raw_unlabeled/image_0048.jpg: 480x640 2 helicopters, 102.1ms\n",
      "image 177/259 /Users/denizcemcangoz/Desktop/my_dataset/raw_unlabeled/image_0049 kopyası 2.jpg: 416x640 1 pyramid, 92.8ms\n",
      "image 178/259 /Users/denizcemcangoz/Desktop/my_dataset/raw_unlabeled/image_0049 kopyası 3.jpg: 640x640 1 sea_horse, 1 leopard, 1 pyramid, 139.4ms\n",
      "image 179/259 /Users/denizcemcangoz/Desktop/my_dataset/raw_unlabeled/image_0049 kopyası.jpg: 448x640 (no detections), 114.5ms\n",
      "image 180/259 /Users/denizcemcangoz/Desktop/my_dataset/raw_unlabeled/image_0049.jpg: 384x640 1 helicopter, 122.6ms\n",
      "image 181/259 /Users/denizcemcangoz/Desktop/my_dataset/raw_unlabeled/image_0050 kopyası 2.jpg: 544x640 1 pyramid, 110.5ms\n",
      "image 182/259 /Users/denizcemcangoz/Desktop/my_dataset/raw_unlabeled/image_0050 kopyası 3.jpg: 640x416 1 sea_horse, 1 pyramid, 93.8ms\n",
      "image 183/259 /Users/denizcemcangoz/Desktop/my_dataset/raw_unlabeled/image_0050 kopyası.jpg: 448x640 1 sea_horse, 95.5ms\n",
      "image 184/259 /Users/denizcemcangoz/Desktop/my_dataset/raw_unlabeled/image_0050.jpg: 480x640 (no detections), 137.2ms\n",
      "image 185/259 /Users/denizcemcangoz/Desktop/my_dataset/raw_unlabeled/image_0051 kopyası 2.jpg: 640x448 (no detections), 98.6ms\n",
      "image 186/259 /Users/denizcemcangoz/Desktop/my_dataset/raw_unlabeled/image_0051 kopyası 3.jpg: 640x640 2 sea_horses, 1 helicopter, 132.3ms\n",
      "image 187/259 /Users/denizcemcangoz/Desktop/my_dataset/raw_unlabeled/image_0051 kopyası.jpg: 448x640 2 leopards, 95.9ms\n",
      "image 188/259 /Users/denizcemcangoz/Desktop/my_dataset/raw_unlabeled/image_0051.jpg: 480x640 1 helicopter, 105.3ms\n",
      "image 189/259 /Users/denizcemcangoz/Desktop/my_dataset/raw_unlabeled/image_0052 kopyası 2.jpg: 448x640 1 pyramid, 133.5ms\n",
      "image 190/259 /Users/denizcemcangoz/Desktop/my_dataset/raw_unlabeled/image_0052 kopyası 3.jpg: 640x416 1 sea_horse, 95.0ms\n",
      "image 191/259 /Users/denizcemcangoz/Desktop/my_dataset/raw_unlabeled/image_0052 kopyası.jpg: 448x640 1 leopard, 99.2ms\n",
      "image 192/259 /Users/denizcemcangoz/Desktop/my_dataset/raw_unlabeled/image_0052.jpg: 416x640 (no detections), 92.6ms\n",
      "image 193/259 /Users/denizcemcangoz/Desktop/my_dataset/raw_unlabeled/image_0053 kopyası 2.jpg: 416x640 2 helicopters, 92.7ms\n",
      "image 194/259 /Users/denizcemcangoz/Desktop/my_dataset/raw_unlabeled/image_0053 kopyası 3.jpg: 640x352 1 sea_horse, 1 pyramid, 85.6ms\n",
      "image 195/259 /Users/denizcemcangoz/Desktop/my_dataset/raw_unlabeled/image_0053 kopyası.jpg: 448x640 1 leopard, 122.0ms\n",
      "image 196/259 /Users/denizcemcangoz/Desktop/my_dataset/raw_unlabeled/image_0053.jpg: 480x640 2 helicopters, 121.2ms\n",
      "image 197/259 /Users/denizcemcangoz/Desktop/my_dataset/raw_unlabeled/image_0054 kopyası 2.jpg: 640x640 1 pyramid, 128.3ms\n",
      "image 198/259 /Users/denizcemcangoz/Desktop/my_dataset/raw_unlabeled/image_0054 kopyası 3.jpg: 544x640 1 sea_horse, 115.3ms\n",
      "image 199/259 /Users/denizcemcangoz/Desktop/my_dataset/raw_unlabeled/image_0054 kopyası.jpg: 448x640 1 leopard, 160.5ms\n",
      "image 200/259 /Users/denizcemcangoz/Desktop/my_dataset/raw_unlabeled/image_0054.jpg: 448x640 1 helicopter, 105.0ms\n",
      "image 201/259 /Users/denizcemcangoz/Desktop/my_dataset/raw_unlabeled/image_0055 kopyası 2.jpg: 576x640 1 sea_horse, 1 helicopter, 131.1ms\n",
      "image 202/259 /Users/denizcemcangoz/Desktop/my_dataset/raw_unlabeled/image_0055 kopyası 3.jpg: 640x544 (no detections), 205.9ms\n",
      "image 203/259 /Users/denizcemcangoz/Desktop/my_dataset/raw_unlabeled/image_0055 kopyası.jpg: 448x640 2 leopards, 111.3ms\n",
      "image 204/259 /Users/denizcemcangoz/Desktop/my_dataset/raw_unlabeled/image_0055.jpg: 576x640 2 helicopters, 132.4ms\n",
      "image 205/259 /Users/denizcemcangoz/Desktop/my_dataset/raw_unlabeled/image_0056 kopyası 2.jpg: 544x640 1 leopard, 1 pyramid, 119.3ms\n",
      "image 206/259 /Users/denizcemcangoz/Desktop/my_dataset/raw_unlabeled/image_0056 kopyası 3.jpg: 640x480 2 helicopters, 104.0ms\n",
      "image 207/259 /Users/denizcemcangoz/Desktop/my_dataset/raw_unlabeled/image_0056 kopyası.jpg: 448x640 2 leopards, 98.6ms\n",
      "image 208/259 /Users/denizcemcangoz/Desktop/my_dataset/raw_unlabeled/image_0056.jpg: 384x640 1 helicopter, 107.3ms\n",
      "image 209/259 /Users/denizcemcangoz/Desktop/my_dataset/raw_unlabeled/image_0057 kopyası 2.jpg: 608x640 2 pyramids, 151.0ms\n",
      "image 210/259 /Users/denizcemcangoz/Desktop/my_dataset/raw_unlabeled/image_0057 kopyası 3.jpg: 640x448 (no detections), 100.6ms\n",
      "image 211/259 /Users/denizcemcangoz/Desktop/my_dataset/raw_unlabeled/image_0057 kopyası.jpg: 448x640 2 leopards, 113.5ms\n",
      "image 212/259 /Users/denizcemcangoz/Desktop/my_dataset/raw_unlabeled/image_0057.jpg: 320x640 1 helicopter, 132.2ms\n",
      "image 213/259 /Users/denizcemcangoz/Desktop/my_dataset/raw_unlabeled/image_0058 kopyası.jpg: 448x640 1 leopard, 131.5ms\n",
      "image 214/259 /Users/denizcemcangoz/Desktop/my_dataset/raw_unlabeled/image_0058.jpg: 480x640 (no detections), 122.9ms\n",
      "image 215/259 /Users/denizcemcangoz/Desktop/my_dataset/raw_unlabeled/image_0059 kopyası.jpg: 448x640 2 leopards, 103.4ms\n",
      "image 216/259 /Users/denizcemcangoz/Desktop/my_dataset/raw_unlabeled/image_0059.jpg: 448x640 (no detections), 94.2ms\n",
      "image 217/259 /Users/denizcemcangoz/Desktop/my_dataset/raw_unlabeled/image_0060 kopyası.jpg: 448x640 (no detections), 117.8ms\n",
      "image 218/259 /Users/denizcemcangoz/Desktop/my_dataset/raw_unlabeled/image_0060.jpg: 480x640 2 helicopters, 110.2ms\n",
      "image 219/259 /Users/denizcemcangoz/Desktop/my_dataset/raw_unlabeled/image_0061 kopyası.jpg: 640x448 1 sea_horse, 1 leopard, 109.9ms\n",
      "image 220/259 /Users/denizcemcangoz/Desktop/my_dataset/raw_unlabeled/image_0061.jpg: 320x640 2 helicopters, 93.1ms\n",
      "image 221/259 /Users/denizcemcangoz/Desktop/my_dataset/raw_unlabeled/image_0062 kopyası.jpg: 640x448 1 sea_horse, 125.2ms\n",
      "image 222/259 /Users/denizcemcangoz/Desktop/my_dataset/raw_unlabeled/image_0062.jpg: 480x640 1 helicopter, 169.7ms\n",
      "image 223/259 /Users/denizcemcangoz/Desktop/my_dataset/raw_unlabeled/image_0063 kopyası.jpg: 640x448 (no detections), 121.9ms\n",
      "image 224/259 /Users/denizcemcangoz/Desktop/my_dataset/raw_unlabeled/image_0063.jpg: 448x640 1 helicopter, 112.2ms\n",
      "image 225/259 /Users/denizcemcangoz/Desktop/my_dataset/raw_unlabeled/image_0064 kopyası.jpg: 640x448 2 leopards, 130.3ms\n",
      "image 226/259 /Users/denizcemcangoz/Desktop/my_dataset/raw_unlabeled/image_0064.jpg: 448x640 1 helicopter, 116.9ms\n",
      "image 227/259 /Users/denizcemcangoz/Desktop/my_dataset/raw_unlabeled/image_0065 kopyası.jpg: 448x640 1 leopard, 101.0ms\n",
      "image 228/259 /Users/denizcemcangoz/Desktop/my_dataset/raw_unlabeled/image_0065.jpg: 416x640 1 helicopter, 137.9ms\n",
      "image 229/259 /Users/denizcemcangoz/Desktop/my_dataset/raw_unlabeled/image_0066 kopyası.jpg: 448x640 2 sea_horses, 123.3ms\n",
      "image 230/259 /Users/denizcemcangoz/Desktop/my_dataset/raw_unlabeled/image_0066.jpg: 352x640 2 helicopters, 124.2ms\n",
      "image 231/259 /Users/denizcemcangoz/Desktop/my_dataset/raw_unlabeled/image_0067 kopyası.jpg: 448x640 1 leopard, 100.0ms\n",
      "image 232/259 /Users/denizcemcangoz/Desktop/my_dataset/raw_unlabeled/image_0067.jpg: 416x640 (no detections), 96.2ms\n",
      "image 233/259 /Users/denizcemcangoz/Desktop/my_dataset/raw_unlabeled/image_0068 kopyası.jpg: 640x448 (no detections), 134.3ms\n",
      "image 234/259 /Users/denizcemcangoz/Desktop/my_dataset/raw_unlabeled/image_0068.jpg: 288x640 1 helicopter, 118.6ms\n",
      "image 235/259 /Users/denizcemcangoz/Desktop/my_dataset/raw_unlabeled/image_0069 kopyası.jpg: 448x640 2 leopards, 106.3ms\n",
      "image 236/259 /Users/denizcemcangoz/Desktop/my_dataset/raw_unlabeled/image_0069.jpg: 448x640 1 helicopter, 104.4ms\n",
      "image 237/259 /Users/denizcemcangoz/Desktop/my_dataset/raw_unlabeled/image_0070 kopyası.jpg: 640x448 (no detections), 96.8ms\n",
      "image 238/259 /Users/denizcemcangoz/Desktop/my_dataset/raw_unlabeled/image_0070.jpg: 512x640 1 helicopter, 158.1ms\n",
      "image 239/259 /Users/denizcemcangoz/Desktop/my_dataset/raw_unlabeled/image_0071 kopyası.jpg: 448x640 1 leopard, 149.8ms\n",
      "image 240/259 /Users/denizcemcangoz/Desktop/my_dataset/raw_unlabeled/image_0071.jpg: 384x640 (no detections), 130.9ms\n",
      "image 241/259 /Users/denizcemcangoz/Desktop/my_dataset/raw_unlabeled/image_0072 kopyası.jpg: 640x448 1 leopard, 239.5ms\n",
      "image 242/259 /Users/denizcemcangoz/Desktop/my_dataset/raw_unlabeled/image_0072.jpg: 352x640 (no detections), 220.2ms\n",
      "image 243/259 /Users/denizcemcangoz/Desktop/my_dataset/raw_unlabeled/image_0073 kopyası.jpg: 448x640 2 leopards, 149.8ms\n",
      "image 244/259 /Users/denizcemcangoz/Desktop/my_dataset/raw_unlabeled/image_0073.jpg: 480x640 (no detections), 105.7ms\n",
      "image 245/259 /Users/denizcemcangoz/Desktop/my_dataset/raw_unlabeled/image_0074.jpg: 352x640 1 helicopter, 80.4ms\n",
      "image 246/259 /Users/denizcemcangoz/Desktop/my_dataset/raw_unlabeled/image_0075.jpg: 416x640 (no detections), 95.0ms\n",
      "image 247/259 /Users/denizcemcangoz/Desktop/my_dataset/raw_unlabeled/image_0076.jpg: 448x640 1 helicopter, 102.8ms\n",
      "image 248/259 /Users/denizcemcangoz/Desktop/my_dataset/raw_unlabeled/image_0077.jpg: 384x640 1 helicopter, 102.1ms\n",
      "image 249/259 /Users/denizcemcangoz/Desktop/my_dataset/raw_unlabeled/image_0078.jpg: 416x640 (no detections), 131.5ms\n",
      "image 250/259 /Users/denizcemcangoz/Desktop/my_dataset/raw_unlabeled/image_0079.jpg: 416x640 (no detections), 94.6ms\n",
      "image 251/259 /Users/denizcemcangoz/Desktop/my_dataset/raw_unlabeled/image_0080.jpg: 480x640 1 helicopter, 130.4ms\n",
      "image 252/259 /Users/denizcemcangoz/Desktop/my_dataset/raw_unlabeled/image_0081.jpg: 576x640 1 helicopter, 118.7ms\n",
      "image 253/259 /Users/denizcemcangoz/Desktop/my_dataset/raw_unlabeled/image_0082.jpg: 480x640 1 helicopter, 112.8ms\n",
      "image 254/259 /Users/denizcemcangoz/Desktop/my_dataset/raw_unlabeled/image_0083.jpg: 512x640 1 helicopter, 144.4ms\n",
      "image 255/259 /Users/denizcemcangoz/Desktop/my_dataset/raw_unlabeled/image_0084.jpg: 384x640 (no detections), 93.3ms\n",
      "image 256/259 /Users/denizcemcangoz/Desktop/my_dataset/raw_unlabeled/image_0085.jpg: 448x640 1 helicopter, 107.5ms\n",
      "image 257/259 /Users/denizcemcangoz/Desktop/my_dataset/raw_unlabeled/image_0086.jpg: 448x640 1 helicopter, 97.8ms\n",
      "image 258/259 /Users/denizcemcangoz/Desktop/my_dataset/raw_unlabeled/image_0087.jpg: 384x640 1 helicopter, 132.2ms\n",
      "image 259/259 /Users/denizcemcangoz/Desktop/my_dataset/raw_unlabeled/image_0088.jpg: 448x640 1 helicopter, 124.5ms\n",
      "Speed: 1.5ms preprocess, 120.9ms inference, 0.6ms postprocess per image at shape (1, 3, 448, 640)\n",
      "Results saved to \u001b[1mruns/detect/predict\u001b[0m\n"
     ]
    }
   ],
   "source": [
    "from ultralytics import YOLO\n",
    "import os\n",
    "import cv2\n",
    "import matplotlib.pyplot as plt\n",
    "\n",
    "# 1. Modeli yükle\n",
    "model = YOLO(\"runs/detect/train/weights/best.pt\")\n",
    "\n",
    "# 2. Tahmin yapılacak klasör (val klasörün)\n",
    "test_folder = \"/Users/denizcemcangoz/Desktop/my_dataset/raw_unlabeled\"  # 🔁 Değiştirmen gerekebilir\n",
    "\n",
    "# 3. Tahminleri üret\n",
    "results = model.predict(\n",
    "    source=test_folder,\n",
    "    save=True,\n",
    "    conf=0.06\n",
    ")\n",
    "\n",
    "\n"
   ]
  }
 ],
 "metadata": {
  "kernelspec": {
   "display_name": "Python 3",
   "language": "python",
   "name": "python3"
  },
  "language_info": {
   "codemirror_mode": {
    "name": "ipython",
    "version": 3
   },
   "file_extension": ".py",
   "mimetype": "text/x-python",
   "name": "python",
   "nbconvert_exporter": "python",
   "pygments_lexer": "ipython3",
   "version": "3.9.13"
  }
 },
 "nbformat": 4,
 "nbformat_minor": 2
}
